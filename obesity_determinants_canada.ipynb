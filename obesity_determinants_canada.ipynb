{
 "cells": [
  {
   "cell_type": "markdown",
   "id": "8e5ee324-8a6d-4b9f-808f-6382345478b8",
   "metadata": {
    "id": "8e5ee324-8a6d-4b9f-808f-6382345478b8"
   },
   "source": [
    "# 📂 Loading the Obesity Dataset\n",
    "\n",
    "In this step, we will load the **Obesity dataset** into our environment for analysis.  \n",
    "We’ll use **pandas** to read the file and create a DataFrame, which will make it easier to explore, clean, and prepare the data for further analysis."
   ]
  },
  {
   "cell_type": "code",
   "execution_count": 1,
   "id": "7e5a9635-a66b-42ed-8c55-08e2ff339a00",
   "metadata": {
    "id": "7e5a9635-a66b-42ed-8c55-08e2ff339a00"
   },
   "outputs": [],
   "source": [
    "import pandas as pd\n",
    "\n",
    "df = pd.read_csv(\"pumf_cchs.csv\")"
   ]
  },
  {
   "cell_type": "code",
   "execution_count": 2,
   "id": "5aeccf22-cd03-4eb7-bd72-a969a4d26f1c",
   "metadata": {
    "id": "5aeccf22-cd03-4eb7-bd72-a969a4d26f1c",
    "outputId": "d2de8982-33e3-41fb-bf36-a0ed240b872e"
   },
   "outputs": [
    {
     "data": {
      "text/html": [
       "<div>\n",
       "<style scoped>\n",
       "    .dataframe tbody tr th:only-of-type {\n",
       "        vertical-align: middle;\n",
       "    }\n",
       "\n",
       "    .dataframe tbody tr th {\n",
       "        vertical-align: top;\n",
       "    }\n",
       "\n",
       "    .dataframe thead th {\n",
       "        text-align: right;\n",
       "    }\n",
       "</style>\n",
       "<table border=\"1\" class=\"dataframe\">\n",
       "  <thead>\n",
       "    <tr style=\"text-align: right;\">\n",
       "      <th></th>\n",
       "      <th>ADM_RNO1</th>\n",
       "      <th>VERDATE</th>\n",
       "      <th>REFPER</th>\n",
       "      <th>GEOGPRV</th>\n",
       "      <th>GEODGHR4</th>\n",
       "      <th>DHH_SEX</th>\n",
       "      <th>DHHGMS</th>\n",
       "      <th>DHHDGHSZ</th>\n",
       "      <th>ADM_PRX</th>\n",
       "      <th>DHHGAGE</th>\n",
       "      <th>...</th>\n",
       "      <th>FSCDVHF2</th>\n",
       "      <th>INCG015</th>\n",
       "      <th>INCDGHH</th>\n",
       "      <th>INCDGRCA</th>\n",
       "      <th>INCDGRPR</th>\n",
       "      <th>INCDGRRS</th>\n",
       "      <th>ADM_040</th>\n",
       "      <th>ADM_045</th>\n",
       "      <th>ADM_050</th>\n",
       "      <th>WTS_M</th>\n",
       "    </tr>\n",
       "  </thead>\n",
       "  <tbody>\n",
       "    <tr>\n",
       "      <th>0</th>\n",
       "      <td>1000</td>\n",
       "      <td>20240531</td>\n",
       "      <td>2019-2020</td>\n",
       "      <td>47.0</td>\n",
       "      <td>47906.0</td>\n",
       "      <td>2.0</td>\n",
       "      <td>1.0</td>\n",
       "      <td>2.0</td>\n",
       "      <td>2.0</td>\n",
       "      <td>3.0</td>\n",
       "      <td>...</td>\n",
       "      <td>0.0</td>\n",
       "      <td>1.0</td>\n",
       "      <td>5.0</td>\n",
       "      <td>4.0</td>\n",
       "      <td>4.0</td>\n",
       "      <td>4.0</td>\n",
       "      <td>1.0</td>\n",
       "      <td>1.0</td>\n",
       "      <td>6.0</td>\n",
       "      <td>762.82</td>\n",
       "    </tr>\n",
       "    <tr>\n",
       "      <th>1</th>\n",
       "      <td>100005</td>\n",
       "      <td>20240531</td>\n",
       "      <td>2019-2020</td>\n",
       "      <td>47.0</td>\n",
       "      <td>47906.0</td>\n",
       "      <td>1.0</td>\n",
       "      <td>1.0</td>\n",
       "      <td>2.0</td>\n",
       "      <td>2.0</td>\n",
       "      <td>5.0</td>\n",
       "      <td>...</td>\n",
       "      <td>0.0</td>\n",
       "      <td>2.0</td>\n",
       "      <td>4.0</td>\n",
       "      <td>2.0</td>\n",
       "      <td>2.0</td>\n",
       "      <td>2.0</td>\n",
       "      <td>6.0</td>\n",
       "      <td>1.0</td>\n",
       "      <td>6.0</td>\n",
       "      <td>31.78</td>\n",
       "    </tr>\n",
       "    <tr>\n",
       "      <th>2</th>\n",
       "      <td>100012</td>\n",
       "      <td>20240531</td>\n",
       "      <td>2019-2020</td>\n",
       "      <td>59.0</td>\n",
       "      <td>59914.0</td>\n",
       "      <td>2.0</td>\n",
       "      <td>2.0</td>\n",
       "      <td>1.0</td>\n",
       "      <td>2.0</td>\n",
       "      <td>5.0</td>\n",
       "      <td>...</td>\n",
       "      <td>6.0</td>\n",
       "      <td>2.0</td>\n",
       "      <td>2.0</td>\n",
       "      <td>1.0</td>\n",
       "      <td>1.0</td>\n",
       "      <td>1.0</td>\n",
       "      <td>2.0</td>\n",
       "      <td>1.0</td>\n",
       "      <td>6.0</td>\n",
       "      <td>59.24</td>\n",
       "    </tr>\n",
       "    <tr>\n",
       "      <th>3</th>\n",
       "      <td>100015</td>\n",
       "      <td>20240531</td>\n",
       "      <td>2019-2020</td>\n",
       "      <td>13.0</td>\n",
       "      <td>13904.0</td>\n",
       "      <td>1.0</td>\n",
       "      <td>2.0</td>\n",
       "      <td>1.0</td>\n",
       "      <td>2.0</td>\n",
       "      <td>5.0</td>\n",
       "      <td>...</td>\n",
       "      <td>0.0</td>\n",
       "      <td>2.0</td>\n",
       "      <td>3.0</td>\n",
       "      <td>3.0</td>\n",
       "      <td>3.0</td>\n",
       "      <td>9.0</td>\n",
       "      <td>6.0</td>\n",
       "      <td>1.0</td>\n",
       "      <td>6.0</td>\n",
       "      <td>22.83</td>\n",
       "    </tr>\n",
       "    <tr>\n",
       "      <th>4</th>\n",
       "      <td>100018</td>\n",
       "      <td>20240531</td>\n",
       "      <td>2019-2020</td>\n",
       "      <td>46.0</td>\n",
       "      <td>46903.0</td>\n",
       "      <td>1.0</td>\n",
       "      <td>2.0</td>\n",
       "      <td>1.0</td>\n",
       "      <td>2.0</td>\n",
       "      <td>4.0</td>\n",
       "      <td>...</td>\n",
       "      <td>0.0</td>\n",
       "      <td>2.0</td>\n",
       "      <td>1.0</td>\n",
       "      <td>1.0</td>\n",
       "      <td>1.0</td>\n",
       "      <td>9.0</td>\n",
       "      <td>2.0</td>\n",
       "      <td>1.0</td>\n",
       "      <td>6.0</td>\n",
       "      <td>39.96</td>\n",
       "    </tr>\n",
       "  </tbody>\n",
       "</table>\n",
       "<p>5 rows × 691 columns</p>\n",
       "</div>"
      ],
      "text/plain": [
       "   ADM_RNO1   VERDATE     REFPER  GEOGPRV  GEODGHR4  DHH_SEX  DHHGMS  \\\n",
       "0      1000  20240531  2019-2020     47.0   47906.0      2.0     1.0   \n",
       "1    100005  20240531  2019-2020     47.0   47906.0      1.0     1.0   \n",
       "2    100012  20240531  2019-2020     59.0   59914.0      2.0     2.0   \n",
       "3    100015  20240531  2019-2020     13.0   13904.0      1.0     2.0   \n",
       "4    100018  20240531  2019-2020     46.0   46903.0      1.0     2.0   \n",
       "\n",
       "   DHHDGHSZ  ADM_PRX  DHHGAGE  ...  FSCDVHF2  INCG015  INCDGHH  INCDGRCA  \\\n",
       "0       2.0      2.0      3.0  ...       0.0      1.0      5.0       4.0   \n",
       "1       2.0      2.0      5.0  ...       0.0      2.0      4.0       2.0   \n",
       "2       1.0      2.0      5.0  ...       6.0      2.0      2.0       1.0   \n",
       "3       1.0      2.0      5.0  ...       0.0      2.0      3.0       3.0   \n",
       "4       1.0      2.0      4.0  ...       0.0      2.0      1.0       1.0   \n",
       "\n",
       "   INCDGRPR  INCDGRRS  ADM_040  ADM_045  ADM_050   WTS_M  \n",
       "0       4.0       4.0      1.0      1.0      6.0  762.82  \n",
       "1       2.0       2.0      6.0      1.0      6.0   31.78  \n",
       "2       1.0       1.0      2.0      1.0      6.0   59.24  \n",
       "3       3.0       9.0      6.0      1.0      6.0   22.83  \n",
       "4       1.0       9.0      2.0      1.0      6.0   39.96  \n",
       "\n",
       "[5 rows x 691 columns]"
      ]
     },
     "execution_count": 2,
     "metadata": {},
     "output_type": "execute_result"
    }
   ],
   "source": [
    "df.head()"
   ]
  },
  {
   "cell_type": "markdown",
   "id": "014b9230",
   "metadata": {
    "id": "014b9230"
   },
   "source": [
    "# Hypothesis 1"
   ]
  },
  {
   "cell_type": "markdown",
   "id": "e7407c5b",
   "metadata": {
    "id": "e7407c5b"
   },
   "source": [
    "### There is a significant relationship between lower income levels and the likelihood of being overweight or obese among Canadian adults."
   ]
  },
  {
   "cell_type": "markdown",
   "id": "8edc3668",
   "metadata": {
    "id": "8edc3668"
   },
   "source": [
    "### Data Cleaning  \n",
    "\n",
    "Subset BMI and Income variables, kept only valid BMI codes (1, 2), and renamed columns for clarity.  "
   ]
  },
  {
   "cell_type": "code",
   "execution_count": 3,
   "id": "0fbe5773",
   "metadata": {
    "id": "0fbe5773"
   },
   "outputs": [],
   "source": [
    "df_sub = df[[\"HWTDGISW\", \"INCDGHH\"]].copy()\n",
    "\n",
    "df_sub = df_sub[df_sub[\"HWTDGISW\"].isin([1, 2])]\n",
    "\n",
    "df_sub.rename(columns={\"HWTDGISW\": \"BMI_cat\", \"INCDGHH\": \"Income\"}, inplace=True)\n"
   ]
  },
  {
   "cell_type": "markdown",
   "id": "67733f67",
   "metadata": {
    "id": "67733f67"
   },
   "source": [
    "### Contingency Table of Income vs. BMI  \n",
    "\n",
    "Created a crosstab of **Income** and **BMI categories**, cleaned the Income column, and displayed all groups in a DataFrame."
   ]
  },
  {
   "cell_type": "code",
   "execution_count": 4,
   "id": "229cb09e",
   "metadata": {
    "id": "229cb09e",
    "outputId": "43886dd7-dd24-4982-9fe0-a374bb309dc5"
   },
   "outputs": [
    {
     "data": {
      "text/html": [
       "<div>\n",
       "<style scoped>\n",
       "    .dataframe tbody tr th:only-of-type {\n",
       "        vertical-align: middle;\n",
       "    }\n",
       "\n",
       "    .dataframe tbody tr th {\n",
       "        vertical-align: top;\n",
       "    }\n",
       "\n",
       "    .dataframe thead th {\n",
       "        text-align: right;\n",
       "    }\n",
       "</style>\n",
       "<table border=\"1\" class=\"dataframe\">\n",
       "  <thead>\n",
       "    <tr style=\"text-align: right;\">\n",
       "      <th></th>\n",
       "      <th>Income</th>\n",
       "      <th>Normal/Underweight</th>\n",
       "      <th>Overweight/Obese</th>\n",
       "    </tr>\n",
       "  </thead>\n",
       "  <tbody>\n",
       "    <tr>\n",
       "      <th>0</th>\n",
       "      <td>1</td>\n",
       "      <td>2272</td>\n",
       "      <td>3069</td>\n",
       "    </tr>\n",
       "    <tr>\n",
       "      <th>1</th>\n",
       "      <td>2</td>\n",
       "      <td>6534</td>\n",
       "      <td>9724</td>\n",
       "    </tr>\n",
       "    <tr>\n",
       "      <th>2</th>\n",
       "      <td>3</td>\n",
       "      <td>6089</td>\n",
       "      <td>9523</td>\n",
       "    </tr>\n",
       "    <tr>\n",
       "      <th>3</th>\n",
       "      <td>4</td>\n",
       "      <td>5146</td>\n",
       "      <td>7885</td>\n",
       "    </tr>\n",
       "    <tr>\n",
       "      <th>4</th>\n",
       "      <td>5</td>\n",
       "      <td>16767</td>\n",
       "      <td>25263</td>\n",
       "    </tr>\n",
       "    <tr>\n",
       "      <th>5</th>\n",
       "      <td>9</td>\n",
       "      <td>747</td>\n",
       "      <td>1052</td>\n",
       "    </tr>\n",
       "  </tbody>\n",
       "</table>\n",
       "</div>"
      ],
      "text/plain": [
       "   Income  Normal/Underweight  Overweight/Obese\n",
       "0       1                2272              3069\n",
       "1       2                6534              9724\n",
       "2       3                6089              9523\n",
       "3       4                5146              7885\n",
       "4       5               16767             25263\n",
       "5       9                 747              1052"
      ]
     },
     "metadata": {},
     "output_type": "display_data"
    }
   ],
   "source": [
    "import pandas as pd\n",
    "\n",
    "# Contingency table (counts) using INCDGHH\n",
    "contingency = pd.crosstab(df_sub[\"Income\"], df_sub[\"BMI_cat\"])\n",
    "contingency.columns = [\"Normal/Underweight\", \"Overweight/Obese\"]\n",
    "\n",
    "# Convert to DataFrame and clean Income column\n",
    "contingency_df = contingency.reset_index()\n",
    "contingency_df[\"Income\"] = contingency_df[\"Income\"].astype(int)\n",
    "\n",
    "# Display all income groups\n",
    "display(contingency_df)\n"
   ]
  },
  {
   "cell_type": "markdown",
   "id": "da0c9926",
   "metadata": {
    "id": "da0c9926"
   },
   "source": [
    "### BMI by Household Income  \n",
    "\n",
    "Plotted side-by-side bars showing the number of adults in each BMI category across household income groups.  "
   ]
  },
  {
   "cell_type": "code",
   "execution_count": 5,
   "id": "37f005d6",
   "metadata": {
    "id": "37f005d6",
    "outputId": "aa651a30-d9d5-469f-9117-c064c3a2c05a"
   },
   "outputs": [
    {
     "data": {
      "image/png": "[encoded data removed]",
      "text/plain": [
       "<Figure size 1000x600 with 1 Axes>"
      ]
     },
     "metadata": {},
     "output_type": "display_data"
    }
   ],
   "source": [
    "import numpy as np\n",
    "import matplotlib.pyplot as plt\n",
    "import matplotlib.ticker as mtick\n",
    "\n",
    "# Ensure column order\n",
    "contingency_df = contingency_df[[\"Income\", \"Normal/Underweight\", \"Overweight/Obese\"]]\n",
    "\n",
    "# Map income codes to labels\n",
    "labels_map = {\n",
    "    1: \"<$20k\",\n",
    "    2: \"$20–39k\",\n",
    "    3: \"$40–59k\",\n",
    "    4: \"$60–79k\",\n",
    "    5: \"$80k+\",\n",
    "    9: \"Not stated\"\n",
    "}\n",
    "xlabels = contingency_df[\"Income\"].map(labels_map).tolist()\n",
    "\n",
    "x = np.arange(len(xlabels))\n",
    "width = 0.38\n",
    "\n",
    "fig, ax = plt.subplots(figsize=(10, 6))\n",
    "b1 = ax.bar(x - width/2, contingency_df[\"Normal/Underweight\"], width, label=\"Normal/Underweight\")\n",
    "b2 = ax.bar(x + width/2, contingency_df[\"Overweight/Obese\"], width, label=\"Overweight/Obese\")\n",
    "\n",
    "# Titles and labels\n",
    "ax.set_title(\"Number of Adults by BMI Category and Household Income (CCHS 2019–2020)\",\n",
    "             fontsize=14, fontweight=\"bold\")\n",
    "ax.set_xlabel(\"Household income group (INCDGHH)\", fontsize=12, fontweight=\"bold\")\n",
    "ax.set_ylabel(\"Number of adults\", fontsize=12, fontweight=\"bold\")\n",
    "ax.set_xticks(x)\n",
    "ax.set_xticklabels(xlabels, rotation=0)\n",
    "ax.legend()\n",
    "\n",
    "# Value labels with thousands separator\n",
    "for bars in (b1, b2):\n",
    "    for bar in bars:\n",
    "        h = bar.get_height()\n",
    "        ax.annotate(f\"{h:,.0f}\",\n",
    "                    (bar.get_x() + bar.get_width()/2, h),\n",
    "                    xytext=(0, 3), textcoords=\"offset points\",\n",
    "                    ha=\"center\", va=\"bottom\",\n",
    "                    fontsize=9, fontweight=\"bold\")\n",
    "\n",
    "# Grid + axis formatting\n",
    "ax.grid(axis=\"y\", linestyle=\"--\", alpha=0.5)\n",
    "ax.yaxis.set_major_formatter(mtick.StrMethodFormatter(\"{x:,.0f}\"))\n",
    "\n",
    "plt.tight_layout()\n",
    "plt.show()\n"
   ]
  },
  {
   "cell_type": "markdown",
   "id": "550ceb2e",
   "metadata": {
    "id": "550ceb2e"
   },
   "source": [
    "### Proportions of overweight/obese by income level"
   ]
  },
  {
   "cell_type": "code",
   "execution_count": 6,
   "id": "9a8d12e2",
   "metadata": {
    "id": "9a8d12e2",
    "outputId": "8b2dbc7a-168f-4e0c-b95d-f1f59182fb81"
   },
   "outputs": [
    {
     "data": {
      "text/html": [
       "<div>\n",
       "<style scoped>\n",
       "    .dataframe tbody tr th:only-of-type {\n",
       "        vertical-align: middle;\n",
       "    }\n",
       "\n",
       "    .dataframe tbody tr th {\n",
       "        vertical-align: top;\n",
       "    }\n",
       "\n",
       "    .dataframe thead th {\n",
       "        text-align: right;\n",
       "    }\n",
       "</style>\n",
       "<table border=\"1\" class=\"dataframe\">\n",
       "  <thead>\n",
       "    <tr style=\"text-align: right;\">\n",
       "      <th></th>\n",
       "      <th>Income</th>\n",
       "      <th>Normal/Underweight</th>\n",
       "      <th>Overweight/Obese</th>\n",
       "    </tr>\n",
       "  </thead>\n",
       "  <tbody>\n",
       "    <tr>\n",
       "      <th>0</th>\n",
       "      <td>1</td>\n",
       "      <td>0.425389</td>\n",
       "      <td>0.574611</td>\n",
       "    </tr>\n",
       "    <tr>\n",
       "      <th>1</th>\n",
       "      <td>2</td>\n",
       "      <td>0.401894</td>\n",
       "      <td>0.598106</td>\n",
       "    </tr>\n",
       "    <tr>\n",
       "      <th>2</th>\n",
       "      <td>3</td>\n",
       "      <td>0.390020</td>\n",
       "      <td>0.609980</td>\n",
       "    </tr>\n",
       "    <tr>\n",
       "      <th>3</th>\n",
       "      <td>4</td>\n",
       "      <td>0.394904</td>\n",
       "      <td>0.605096</td>\n",
       "    </tr>\n",
       "    <tr>\n",
       "      <th>4</th>\n",
       "      <td>5</td>\n",
       "      <td>0.398929</td>\n",
       "      <td>0.601071</td>\n",
       "    </tr>\n",
       "    <tr>\n",
       "      <th>5</th>\n",
       "      <td>9</td>\n",
       "      <td>0.415231</td>\n",
       "      <td>0.584769</td>\n",
       "    </tr>\n",
       "  </tbody>\n",
       "</table>\n",
       "</div>"
      ],
      "text/plain": [
       "   Income  Normal/Underweight  Overweight/Obese\n",
       "0       1            0.425389          0.574611\n",
       "1       2            0.401894          0.598106\n",
       "2       3            0.390020          0.609980\n",
       "3       4            0.394904          0.605096\n",
       "4       5            0.398929          0.601071\n",
       "5       9            0.415231          0.584769"
      ]
     },
     "metadata": {},
     "output_type": "display_data"
    }
   ],
   "source": [
    "# Proportions of BMI categories within each income group\n",
    "proportions = contingency.div(contingency.sum(axis=1), axis=0)\n",
    "proportions.columns = [\"Normal/Underweight\", \"Overweight/Obese\"]\n",
    "\n",
    "# Convert to DataFrame\n",
    "proportions_df = proportions.reset_index()\n",
    "proportions_df[\"Income\"] = proportions_df[\"Income\"].astype(int)\n",
    "\n",
    "# Display proportions by income group\n",
    "display(proportions_df)\n"
   ]
  },
  {
   "cell_type": "markdown",
   "id": "9ca39d7f",
   "metadata": {
    "id": "9ca39d7f"
   },
   "source": [
    "### CI 95%"
   ]
  },
  {
   "cell_type": "code",
   "execution_count": 7,
   "id": "ffbba258",
   "metadata": {
    "id": "ffbba258",
    "outputId": "d581775d-0fed-4c52-f8a0-ad43fc17c1a6"
   },
   "outputs": [
    {
     "name": "stderr",
     "output_type": "stream",
     "text": [
      "/var/folders/_w/188tytv567j0h1wnz7p5x_sw0000gn/T/ipykernel_25913/1197953382.py:7: DeprecationWarning: DataFrameGroupBy.apply operated on the grouping columns. This behavior is deprecated, and in a future version of pandas the grouping columns will be excluded from the operation. Either pass `include_groups=False` to exclude the groupings or explicitly select the grouping columns after groupby to silence this warning.\n",
      "  obese = g.apply(lambda s: (s[\"BMI_cat\"] == 2).sum())\n"
     ]
    },
    {
     "data": {
      "text/html": [
       "<div>\n",
       "<style scoped>\n",
       "    .dataframe tbody tr th:only-of-type {\n",
       "        vertical-align: middle;\n",
       "    }\n",
       "\n",
       "    .dataframe tbody tr th {\n",
       "        vertical-align: top;\n",
       "    }\n",
       "\n",
       "    .dataframe thead th {\n",
       "        text-align: right;\n",
       "    }\n",
       "</style>\n",
       "<table border=\"1\" class=\"dataframe\">\n",
       "  <thead>\n",
       "    <tr style=\"text-align: right;\">\n",
       "      <th></th>\n",
       "      <th>Income</th>\n",
       "      <th>Proportion overweight/obese</th>\n",
       "      <th>CI95 low</th>\n",
       "      <th>CI95 high</th>\n",
       "    </tr>\n",
       "  </thead>\n",
       "  <tbody>\n",
       "    <tr>\n",
       "      <th>0</th>\n",
       "      <td>1</td>\n",
       "      <td>0.574611</td>\n",
       "      <td>0.561352</td>\n",
       "      <td>0.587871</td>\n",
       "    </tr>\n",
       "    <tr>\n",
       "      <th>1</th>\n",
       "      <td>2</td>\n",
       "      <td>0.598106</td>\n",
       "      <td>0.590569</td>\n",
       "      <td>0.605642</td>\n",
       "    </tr>\n",
       "    <tr>\n",
       "      <th>2</th>\n",
       "      <td>3</td>\n",
       "      <td>0.609980</td>\n",
       "      <td>0.602328</td>\n",
       "      <td>0.617631</td>\n",
       "    </tr>\n",
       "    <tr>\n",
       "      <th>3</th>\n",
       "      <td>4</td>\n",
       "      <td>0.605096</td>\n",
       "      <td>0.596702</td>\n",
       "      <td>0.613489</td>\n",
       "    </tr>\n",
       "    <tr>\n",
       "      <th>4</th>\n",
       "      <td>5</td>\n",
       "      <td>0.601071</td>\n",
       "      <td>0.596389</td>\n",
       "      <td>0.605752</td>\n",
       "    </tr>\n",
       "    <tr>\n",
       "      <th>5</th>\n",
       "      <td>9</td>\n",
       "      <td>0.584769</td>\n",
       "      <td>0.561999</td>\n",
       "      <td>0.607540</td>\n",
       "    </tr>\n",
       "  </tbody>\n",
       "</table>\n",
       "</div>"
      ],
      "text/plain": [
       "   Income  Proportion overweight/obese  CI95 low  CI95 high\n",
       "0       1                     0.574611  0.561352   0.587871\n",
       "1       2                     0.598106  0.590569   0.605642\n",
       "2       3                     0.609980  0.602328   0.617631\n",
       "3       4                     0.605096  0.596702   0.613489\n",
       "4       5                     0.601071  0.596389   0.605752\n",
       "5       9                     0.584769  0.561999   0.607540"
      ]
     },
     "metadata": {},
     "output_type": "display_data"
    }
   ],
   "source": [
    "import pandas as pd\n",
    "import numpy as np\n",
    "from statsmodels.stats.proportion import proportion_confint\n",
    "\n",
    "g = df_sub.groupby(\"Income\")\n",
    "n = g.size()\n",
    "obese = g.apply(lambda s: (s[\"BMI_cat\"] == 2).sum())\n",
    "p = obese / n\n",
    "\n",
    "z = 1.96\n",
    "se = np.sqrt(p * (1 - p) / n)\n",
    "\n",
    "ci95_df = pd.DataFrame({\n",
    "    \"Income\": p.index,\n",
    "    \"Proportion overweight/obese\": p.values,\n",
    "    \"CI95 low\": (p - z * se).clip(0, 1).values,\n",
    "    \"CI95 high\": (p + z * se).clip(0, 1).values\n",
    "})\n",
    "\n",
    "# Reindex to ensure all income groups are present\n",
    "ci95_df = ci95_df.set_index(\"Income\").reindex([1,2,3,4,5,9]).reset_index()\n",
    "\n",
    "display(ci95_df)"
   ]
  },
  {
   "cell_type": "markdown",
   "id": "063abdf5",
   "metadata": {
    "id": "063abdf5"
   },
   "source": [
    "### Overweight/Obesity by Income  \n",
    "\n",
    "Built proportions of **BMI vs. household income**, ordered categories, and plotted a bar chart showing the share of adults overweight/obese across income groups.  "
   ]
  },
  {
   "cell_type": "code",
   "execution_count": 8,
   "id": "c0ffca08",
   "metadata": {
    "id": "c0ffca08",
    "outputId": "f11542ec-9fb3-4487-aeca-48ae73778efc"
   },
   "outputs": [
    {
     "data": {
      "image/png": "[encoded data removed]",
      "text/plain": [
       "<Figure size 900x600 with 1 Axes>"
      ]
     },
     "metadata": {},
     "output_type": "display_data"
    }
   ],
   "source": [
    "import numpy as np\n",
    "import pandas as pd\n",
    "import matplotlib.pyplot as plt\n",
    "\n",
    "# 1) Contingency table (counts)\n",
    "contingency = pd.crosstab(df_sub[\"Income\"], df_sub[\"BMI_cat\"])\n",
    "contingency.columns = [\"Normal/Underweight\", \"Overweight/Obese\"]\n",
    "\n",
    "# 2) Proportions by income group (row-wise)\n",
    "proportions = contingency.div(contingency.sum(axis=1), axis=0)\n",
    "proportions.columns = [\"Normal/Underweight\", \"Overweight/Obese\"]\n",
    "\n",
    "# 3) Order income categories and prepare plotting frame\n",
    "order = [1, 2, 3, 4, 5, 9]  # INCDGHH groups\n",
    "labels_map = {\n",
    "    1: \"< $20k\",\n",
    "    2: \"$20–39k\",\n",
    "    3: \"$40–59k\",\n",
    "    4: \"$60–79k\",\n",
    "    5: \"$80k+\",\n",
    "    9: \"Not stated\"\n",
    "}\n",
    "\n",
    "proportions_df = proportions.reset_index()\n",
    "proportions_df[\"Income\"] = proportions_df[\"Income\"].astype(int)\n",
    "proportions_plot = proportions_df.set_index(\"Income\").loc[order].reset_index()\n",
    "\n",
    "# 4) Plot\n",
    "plt.figure(figsize=(9, 6))\n",
    "colors = [\"#4C72B0\", \"#55A868\", \"#C44E52\", \"#8172B3\", \"#CCB974\", \"#64B5CD\"]\n",
    "\n",
    "bars = plt.bar(\n",
    "    x=np.arange(len(order)),\n",
    "    height=proportions_plot[\"Overweight/Obese\"].to_numpy(),\n",
    "    color=colors,\n",
    "    width=0.7\n",
    ")\n",
    "\n",
    "# Bold title and axis labels\n",
    "plt.title(\n",
    "    \"Proportion of Adults Overweight/Obese by Household Income Level (CCHS 2019–2020)\",\n",
    "    fontsize=14, fontweight=\"bold\"\n",
    ")\n",
    "plt.xlabel(\"Household income group (INCDGHH)\", fontsize=12, fontweight=\"bold\")\n",
    "plt.ylabel(\"Proportion overweight/obese (%)\", fontsize=12, fontweight=\"bold\")\n",
    "\n",
    "# X ticks with income labels\n",
    "xtick_labels = [labels_map[i] for i in order]\n",
    "plt.xticks(ticks=np.arange(len(order)), labels=xtick_labels, fontsize=11, rotation=0)\n",
    "\n",
    "# Y as percentage with grid\n",
    "plt.ylim(0, 1.05)\n",
    "yticks = np.linspace(0, 1, 11)\n",
    "plt.yticks(yticks, [f\"{int(t*100)}%\" for t in yticks])\n",
    "plt.grid(axis=\"y\", linestyle=\"--\", alpha=0.7)\n",
    "\n",
    "# Value labels (percent) inside bars with contrast\n",
    "y_vals = proportions_plot[\"Overweight/Obese\"].to_numpy()\n",
    "for bar, val in zip(bars, y_vals):\n",
    "    h = bar.get_height()\n",
    "    y_pos = h - 0.04 if h >= 0.08 else h + 0.02\n",
    "    color = \"white\" if h >= 0.08 else \"black\"\n",
    "    plt.text(\n",
    "        bar.get_x() + bar.get_width()/2,\n",
    "        y_pos,\n",
    "        f\"{val*100:.1f}%\",\n",
    "        ha=\"center\", va=\"center\",\n",
    "        fontsize=10, fontweight=\"bold\",\n",
    "        color=color\n",
    "    )\n",
    "\n",
    "plt.tight_layout()\n",
    "plt.show()"
   ]
  },
  {
   "cell_type": "markdown",
   "id": "ab60f4ba",
   "metadata": {
    "id": "ab60f4ba"
   },
   "source": [
    "### Chi-Square Test: BMI vs. Income  \n",
    "\n",
    "Built a contingency table (BMI × income), ran a chi-square test, and reported results with Cramer’s V for effect size.  "
   ]
  },
  {
   "cell_type": "code",
   "execution_count": 9,
   "id": "f7a35165",
   "metadata": {
    "id": "f7a35165",
    "outputId": "4e701cae-d86b-4487-fb1d-0055b67d7090"
   },
   "outputs": [
    {
     "data": {
      "text/html": [
       "<div>\n",
       "<style scoped>\n",
       "    .dataframe tbody tr th:only-of-type {\n",
       "        vertical-align: middle;\n",
       "    }\n",
       "\n",
       "    .dataframe tbody tr th {\n",
       "        vertical-align: top;\n",
       "    }\n",
       "\n",
       "    .dataframe thead th {\n",
       "        text-align: right;\n",
       "    }\n",
       "</style>\n",
       "<table border=\"1\" class=\"dataframe\">\n",
       "  <thead>\n",
       "    <tr style=\"text-align: right;\">\n",
       "      <th></th>\n",
       "      <th>Income</th>\n",
       "      <th>Normal/Underweight</th>\n",
       "      <th>Overweight/Obese</th>\n",
       "    </tr>\n",
       "  </thead>\n",
       "  <tbody>\n",
       "    <tr>\n",
       "      <th>0</th>\n",
       "      <td>1.0</td>\n",
       "      <td>2272</td>\n",
       "      <td>3069</td>\n",
       "    </tr>\n",
       "    <tr>\n",
       "      <th>1</th>\n",
       "      <td>2.0</td>\n",
       "      <td>6534</td>\n",
       "      <td>9724</td>\n",
       "    </tr>\n",
       "    <tr>\n",
       "      <th>2</th>\n",
       "      <td>3.0</td>\n",
       "      <td>6089</td>\n",
       "      <td>9523</td>\n",
       "    </tr>\n",
       "    <tr>\n",
       "      <th>3</th>\n",
       "      <td>4.0</td>\n",
       "      <td>5146</td>\n",
       "      <td>7885</td>\n",
       "    </tr>\n",
       "    <tr>\n",
       "      <th>4</th>\n",
       "      <td>5.0</td>\n",
       "      <td>16767</td>\n",
       "      <td>25263</td>\n",
       "    </tr>\n",
       "  </tbody>\n",
       "</table>\n",
       "</div>"
      ],
      "text/plain": [
       "   Income  Normal/Underweight  Overweight/Obese\n",
       "0     1.0                2272              3069\n",
       "1     2.0                6534              9724\n",
       "2     3.0                6089              9523\n",
       "3     4.0                5146              7885\n",
       "4     5.0               16767             25263"
      ]
     },
     "metadata": {},
     "output_type": "display_data"
    },
    {
     "data": {
      "text/html": [
       "<div>\n",
       "<style scoped>\n",
       "    .dataframe tbody tr th:only-of-type {\n",
       "        vertical-align: middle;\n",
       "    }\n",
       "\n",
       "    .dataframe tbody tr th {\n",
       "        vertical-align: top;\n",
       "    }\n",
       "\n",
       "    .dataframe thead th {\n",
       "        text-align: right;\n",
       "    }\n",
       "</style>\n",
       "<table border=\"1\" class=\"dataframe\">\n",
       "  <thead>\n",
       "    <tr style=\"text-align: right;\">\n",
       "      <th></th>\n",
       "      <th>Chi-square</th>\n",
       "      <th>Degrees of freedom</th>\n",
       "      <th>p-value</th>\n",
       "      <th>Cramer's V</th>\n",
       "    </tr>\n",
       "  </thead>\n",
       "  <tbody>\n",
       "    <tr>\n",
       "      <th>0</th>\n",
       "      <td>22.238</td>\n",
       "      <td>4</td>\n",
       "      <td>1.797e-04</td>\n",
       "      <td>0.016</td>\n",
       "    </tr>\n",
       "  </tbody>\n",
       "</table>\n",
       "</div>"
      ],
      "text/plain": [
       "   Chi-square  Degrees of freedom    p-value  Cramer's V\n",
       "0      22.238                   4  1.797e-04       0.016"
      ]
     },
     "metadata": {},
     "output_type": "display_data"
    }
   ],
   "source": [
    "import pandas as pd\n",
    "import numpy as np\n",
    "from scipy.stats import chi2_contingency\n",
    "\n",
    "# 1) Minimal clean\n",
    "sub = df[[\"HWTDGISW\", \"INCDGHH\"]].dropna().rename(columns={\n",
    "    \"HWTDGISW\": \"BMI_cat\",\n",
    "    \"INCDGHH\": \"Income\"\n",
    "})\n",
    "sub = sub[sub[\"BMI_cat\"].isin([1, 2]) & sub[\"Income\"].isin([1, 2, 3, 4, 5])]  # remove 9=Not stated\n",
    "\n",
    "# 2) Contingency table (counts)\n",
    "tab = pd.crosstab(sub[\"Income\"], sub[\"BMI_cat\"])\n",
    "tab.columns = [\"Normal/Underweight\", \"Overweight/Obese\"]\n",
    "\n",
    "# 3) Chi-square + Cramer's V\n",
    "chi2, p, dof, exp = chi2_contingency(tab)\n",
    "V = np.sqrt(chi2 / (tab.to_numpy().sum() * (min(tab.shape) - 1)))\n",
    "\n",
    "# Convert results into a DataFrame\n",
    "results = pd.DataFrame({\n",
    "    \"Chi-square\": [round(chi2, 3)],\n",
    "    \"Degrees of freedom\": [dof],\n",
    "    \"p-value\": [f\"{p:.3e}\"],\n",
    "    \"Cramer's V\": [round(V, 3)]\n",
    "})\n",
    "\n",
    "# Display contingency table and test results\n",
    "display(tab.reset_index())\n",
    "display(results)"
   ]
  },
  {
   "cell_type": "markdown",
   "id": "58cec48b",
   "metadata": {
    "id": "58cec48b"
   },
   "source": [
    "### Expected frequencies"
   ]
  },
  {
   "cell_type": "code",
   "execution_count": 10,
   "id": "35cad844",
   "metadata": {
    "id": "35cad844",
    "outputId": "2d2035d3-ff8c-42ec-abe7-cfec08bcafd5"
   },
   "outputs": [
    {
     "name": "stdout",
     "output_type": "stream",
     "text": [
      "Expected frequencies table:\n"
     ]
    },
    {
     "data": {
      "text/html": [
       "<div>\n",
       "<style scoped>\n",
       "    .dataframe tbody tr th:only-of-type {\n",
       "        vertical-align: middle;\n",
       "    }\n",
       "\n",
       "    .dataframe tbody tr th {\n",
       "        vertical-align: top;\n",
       "    }\n",
       "\n",
       "    .dataframe thead th {\n",
       "        text-align: right;\n",
       "    }\n",
       "</style>\n",
       "<table border=\"1\" class=\"dataframe\">\n",
       "  <thead>\n",
       "    <tr style=\"text-align: right;\">\n",
       "      <th></th>\n",
       "      <th>Normal/Underweight</th>\n",
       "      <th>Overweight/Obese</th>\n",
       "    </tr>\n",
       "    <tr>\n",
       "      <th>Income</th>\n",
       "      <th></th>\n",
       "      <th></th>\n",
       "    </tr>\n",
       "  </thead>\n",
       "  <tbody>\n",
       "    <tr>\n",
       "      <th>1.0</th>\n",
       "      <td>2130.57</td>\n",
       "      <td>3210.43</td>\n",
       "    </tr>\n",
       "    <tr>\n",
       "      <th>2.0</th>\n",
       "      <td>6485.44</td>\n",
       "      <td>9772.56</td>\n",
       "    </tr>\n",
       "    <tr>\n",
       "      <th>3.0</th>\n",
       "      <td>6227.75</td>\n",
       "      <td>9384.25</td>\n",
       "    </tr>\n",
       "    <tr>\n",
       "      <th>4.0</th>\n",
       "      <td>5198.16</td>\n",
       "      <td>7832.84</td>\n",
       "    </tr>\n",
       "    <tr>\n",
       "      <th>5.0</th>\n",
       "      <td>16766.09</td>\n",
       "      <td>25263.91</td>\n",
       "    </tr>\n",
       "  </tbody>\n",
       "</table>\n",
       "</div>"
      ],
      "text/plain": [
       "        Normal/Underweight  Overweight/Obese\n",
       "Income                                      \n",
       "1.0                2130.57           3210.43\n",
       "2.0                6485.44           9772.56\n",
       "3.0                6227.75           9384.25\n",
       "4.0                5198.16           7832.84\n",
       "5.0               16766.09          25263.91"
      ]
     },
     "metadata": {},
     "output_type": "display_data"
    }
   ],
   "source": [
    "import pandas as pd\n",
    "import numpy as np\n",
    "from scipy.stats import chi2_contingency\n",
    "\n",
    "# 1) Clean subset (Income 1–5, BMI_cat 1–2)\n",
    "sub = df[[\"HWTDGISW\", \"INCDGHH\"]].dropna().rename(\n",
    "    columns={\"HWTDGISW\": \"BMI_cat\", \"INCDGHH\": \"Income\"}\n",
    ")\n",
    "sub = sub[sub[\"BMI_cat\"].isin([1, 2]) & sub[\"Income\"].isin([1, 2, 3, 4, 5])]\n",
    "\n",
    "# 2) Contingency table\n",
    "tab = pd.crosstab(sub[\"Income\"], sub[\"BMI_cat\"])\n",
    "tab.columns = [\"Normal/Underweight\", \"Overweight/Obese\"]\n",
    "\n",
    "# 3) Chi-square test to get expected frequencies\n",
    "chi2, p, dof, expected = chi2_contingency(tab)\n",
    "\n",
    "# 4) Convert expected frequencies to DataFrame\n",
    "expected_df = pd.DataFrame(\n",
    "    expected.round(2),\n",
    "    index=tab.index,\n",
    "    columns=tab.columns\n",
    ")\n",
    "\n",
    "print(\"Expected frequencies table:\")\n",
    "display(expected_df)\n"
   ]
  },
  {
   "cell_type": "markdown",
   "id": "24e58100",
   "metadata": {
    "id": "24e58100"
   },
   "source": [
    "### Standardized residuals"
   ]
  },
  {
   "cell_type": "code",
   "execution_count": 11,
   "id": "488bc802",
   "metadata": {
    "id": "488bc802",
    "outputId": "19e263d2-f7ea-42a6-bdbc-46e8c8daa4d8"
   },
   "outputs": [
    {
     "name": "stdout",
     "output_type": "stream",
     "text": [
      "Adjusted standardized residuals (|z| ≥ 2 often considered notable):\n"
     ]
    },
    {
     "data": {
      "text/html": [
       "<div>\n",
       "<style scoped>\n",
       "    .dataframe tbody tr th:only-of-type {\n",
       "        vertical-align: middle;\n",
       "    }\n",
       "\n",
       "    .dataframe tbody tr th {\n",
       "        vertical-align: top;\n",
       "    }\n",
       "\n",
       "    .dataframe thead th {\n",
       "        text-align: right;\n",
       "    }\n",
       "</style>\n",
       "<table border=\"1\" class=\"dataframe\">\n",
       "  <thead>\n",
       "    <tr style=\"text-align: right;\">\n",
       "      <th></th>\n",
       "      <th>Normal/Underweight</th>\n",
       "      <th>Overweight/Obese</th>\n",
       "    </tr>\n",
       "    <tr>\n",
       "      <th>Income</th>\n",
       "      <th></th>\n",
       "      <th></th>\n",
       "    </tr>\n",
       "  </thead>\n",
       "  <tbody>\n",
       "    <tr>\n",
       "      <th>1.0</th>\n",
       "      <td>4.07</td>\n",
       "      <td>-4.07</td>\n",
       "    </tr>\n",
       "    <tr>\n",
       "      <th>2.0</th>\n",
       "      <td>0.86</td>\n",
       "      <td>-0.86</td>\n",
       "    </tr>\n",
       "    <tr>\n",
       "      <th>3.0</th>\n",
       "      <td>-2.49</td>\n",
       "      <td>2.49</td>\n",
       "    </tr>\n",
       "    <tr>\n",
       "      <th>4.0</th>\n",
       "      <td>-1.01</td>\n",
       "      <td>1.01</td>\n",
       "    </tr>\n",
       "    <tr>\n",
       "      <th>5.0</th>\n",
       "      <td>0.01</td>\n",
       "      <td>-0.01</td>\n",
       "    </tr>\n",
       "  </tbody>\n",
       "</table>\n",
       "</div>"
      ],
      "text/plain": [
       "        Normal/Underweight  Overweight/Obese\n",
       "Income                                      \n",
       "1.0                   4.07             -4.07\n",
       "2.0                   0.86             -0.86\n",
       "3.0                  -2.49              2.49\n",
       "4.0                  -1.01              1.01\n",
       "5.0                   0.01             -0.01"
      ]
     },
     "metadata": {},
     "output_type": "display_data"
    },
    {
     "name": "stdout",
     "output_type": "stream",
     "text": [
      "Notable cells (True = |residual| ≥ 2):\n"
     ]
    },
    {
     "data": {
      "text/html": [
       "<div>\n",
       "<style scoped>\n",
       "    .dataframe tbody tr th:only-of-type {\n",
       "        vertical-align: middle;\n",
       "    }\n",
       "\n",
       "    .dataframe tbody tr th {\n",
       "        vertical-align: top;\n",
       "    }\n",
       "\n",
       "    .dataframe thead th {\n",
       "        text-align: right;\n",
       "    }\n",
       "</style>\n",
       "<table border=\"1\" class=\"dataframe\">\n",
       "  <thead>\n",
       "    <tr style=\"text-align: right;\">\n",
       "      <th></th>\n",
       "      <th>Normal/Underweight</th>\n",
       "      <th>Overweight/Obese</th>\n",
       "    </tr>\n",
       "    <tr>\n",
       "      <th>Income</th>\n",
       "      <th></th>\n",
       "      <th></th>\n",
       "    </tr>\n",
       "  </thead>\n",
       "  <tbody>\n",
       "    <tr>\n",
       "      <th>1.0</th>\n",
       "      <td>True</td>\n",
       "      <td>True</td>\n",
       "    </tr>\n",
       "    <tr>\n",
       "      <th>2.0</th>\n",
       "      <td>False</td>\n",
       "      <td>False</td>\n",
       "    </tr>\n",
       "    <tr>\n",
       "      <th>3.0</th>\n",
       "      <td>True</td>\n",
       "      <td>True</td>\n",
       "    </tr>\n",
       "    <tr>\n",
       "      <th>4.0</th>\n",
       "      <td>False</td>\n",
       "      <td>False</td>\n",
       "    </tr>\n",
       "    <tr>\n",
       "      <th>5.0</th>\n",
       "      <td>False</td>\n",
       "      <td>False</td>\n",
       "    </tr>\n",
       "  </tbody>\n",
       "</table>\n",
       "</div>"
      ],
      "text/plain": [
       "        Normal/Underweight  Overweight/Obese\n",
       "Income                                      \n",
       "1.0                   True              True\n",
       "2.0                  False             False\n",
       "3.0                   True              True\n",
       "4.0                  False             False\n",
       "5.0                  False             False"
      ]
     },
     "metadata": {},
     "output_type": "display_data"
    }
   ],
   "source": [
    "import pandas as pd\n",
    "import numpy as np\n",
    "from scipy.stats import chi2_contingency\n",
    "\n",
    "# 1) Clean subset (keep Income=1..5, BMI_cat=1..2)\n",
    "sub = df[[\"HWTDGISW\",\"INCDGHH\"]].dropna().rename(columns={\"HWTDGISW\":\"BMI_cat\",\"INCDGHH\":\"Income\"})\n",
    "sub = sub[sub[\"BMI_cat\"].isin([1,2]) & sub[\"Income\"].isin([1,2,3,4,5])]\n",
    "\n",
    "# 2) Contingency table (observed)\n",
    "tab = pd.crosstab(sub[\"Income\"], sub[\"BMI_cat\"])\n",
    "tab.columns = [\"Normal/Underweight\", \"Overweight/Obese\"]\n",
    "\n",
    "# 3) Expected + adjusted standardized residuals\n",
    "chi2, p, dof, expected = chi2_contingency(tab)\n",
    "exp = pd.DataFrame(expected, index=tab.index, columns=tab.columns)\n",
    "\n",
    "n = tab.to_numpy().sum()\n",
    "row_prop = tab.sum(axis=1) / n\n",
    "col_prop = tab.sum(axis=0) / n\n",
    "\n",
    "# Broadcast denominators per cell: sqrt(E * (1 - row_p_i) * (1 - col_p_j))\n",
    "den = np.sqrt(exp.values * (1 - row_prop.values)[:, None] * (1 - col_prop.values)[None, :])\n",
    "adj_std_resid = (tab.values - exp.values) / den\n",
    "\n",
    "resid_df = pd.DataFrame(adj_std_resid, index=tab.index, columns=tab.columns).round(2)\n",
    "\n",
    "print(\"Adjusted standardized residuals (|z| ≥ 2 often considered notable):\")\n",
    "display(resid_df)\n",
    "\n",
    "# Optional: highlight notable cells\n",
    "notable = resid_df.abs() >= 2\n",
    "print(\"Notable cells (True = |residual| ≥ 2):\")\n",
    "display(notable)\n"
   ]
  },
  {
   "cell_type": "markdown",
   "id": "b75a6726",
   "metadata": {
    "id": "b75a6726"
   },
   "source": [
    "# Hypothesis 2"
   ]
  },
  {
   "cell_type": "markdown",
   "id": "f9aeffa0",
   "metadata": {
    "id": "f9aeffa0"
   },
   "source": [
    "### There is a significant relationship between lower education levels and obesity among Canadian adults."
   ]
  },
  {
   "cell_type": "markdown",
   "id": "2d33d33a-d115-4fed-9db5-67c0ff269c83",
   "metadata": {
    "id": "2d33d33a-d115-4fed-9db5-67c0ff269c83"
   },
   "source": [
    "### Checking for null values"
   ]
  },
  {
   "cell_type": "code",
   "execution_count": 12,
   "id": "4bcef291-6613-446f-b226-8d06f3ee1ab3",
   "metadata": {
    "id": "4bcef291-6613-446f-b226-8d06f3ee1ab3",
    "outputId": "53f93fc8-637a-4fe5-ac96-c6655e0502cb"
   },
   "outputs": [
    {
     "data": {
      "text/plain": [
       "HWTDGISW    0\n",
       "EHG2DVH3    0\n",
       "dtype: int64"
      ]
     },
     "execution_count": 12,
     "metadata": {},
     "output_type": "execute_result"
    }
   ],
   "source": [
    "df[['HWTDGISW', 'EHG2DVH3']].isnull().sum()"
   ]
  },
  {
   "cell_type": "markdown",
   "id": "fe2b306b-dc58-46b2-8952-2820b16307f6",
   "metadata": {
    "id": "fe2b306b-dc58-46b2-8952-2820b16307f6"
   },
   "source": [
    "### Distribution Checks  \n",
    "\n",
    "Printed frequency distributions for BMI (`HWTDGISW`) and Education (`EHG2DVH3`).  "
   ]
  },
  {
   "cell_type": "code",
   "execution_count": 13,
   "id": "3ae6a73a-b491-4ddc-817c-089d20c067ca",
   "metadata": {
    "id": "3ae6a73a-b491-4ddc-817c-089d20c067ca",
    "outputId": "5f08bcaf-3d81-4aed-a888-282a94527fd2"
   },
   "outputs": [
    {
     "name": "stdout",
     "output_type": "stream",
     "text": [
      "BMI Distribution:\n",
      "HWTDGISW\n",
      "2.0    56516\n",
      "1.0    37555\n",
      "9.0     7682\n",
      "6.0     6499\n",
      "Name: count, dtype: int64\n",
      "\n",
      "Education Level Distribution:\n",
      "EHG2DVH3\n",
      "3.0    76845\n",
      "2.0    16069\n",
      "1.0     9469\n",
      "9.0     5869\n",
      "Name: count, dtype: int64\n"
     ]
    }
   ],
   "source": [
    "# BMI distribution\n",
    "bmi_counts = df['HWTDGISW'].value_counts(dropna=False)\n",
    "print(\"BMI Distribution:\")\n",
    "print(bmi_counts)\n",
    "\n",
    "# Education distribution\n",
    "edu_counts = df['EHG2DVH3'].value_counts(dropna=False)\n",
    "print(\"\\nEducation Level Distribution:\")\n",
    "print(edu_counts)"
   ]
  },
  {
   "cell_type": "markdown",
   "id": "22eafec2-886c-454c-9fae-90c09a5f5798",
   "metadata": {
    "id": "22eafec2-886c-454c-9fae-90c09a5f5798"
   },
   "source": [
    "### Cleaning the Obesity Dataset  \n",
    "\n",
    "BMI (`HWTDGISW`) as dependent and Education Level (`EHG2DVH3`) as independent variables.  \n",
    "Checked value counts, removed \"skip/not stated\" values, and created a cleaned dataset (`df_clean`) for analysis.  "
   ]
  },
  {
   "cell_type": "code",
   "execution_count": 14,
   "id": "5d55afba-c47a-48b6-9a16-4ce20d5f2c6a",
   "metadata": {
    "id": "5d55afba-c47a-48b6-9a16-4ce20d5f2c6a",
    "outputId": "4fe48e39-569b-43f8-82e2-49c3a8171f1a"
   },
   "outputs": [
    {
     "name": "stdout",
     "output_type": "stream",
     "text": [
      "Unique values in BMI: HWTDGISW\n",
      "2.0    56516\n",
      "1.0    37555\n",
      "9.0     7682\n",
      "6.0     6499\n",
      "Name: count, dtype: int64\n",
      "Unique values in Education Level: EHG2DVH3\n",
      "3.0    76845\n",
      "2.0    16069\n",
      "1.0     9469\n",
      "9.0     5869\n",
      "Name: count, dtype: int64\n",
      "Skip / Not stated BMI: 14181\n",
      "Skip / Not stated Education Level: 5869\n",
      "Dataset shape after removing missing/not stated values: (89419, 691)\n"
     ]
    }
   ],
   "source": [
    "import pandas as pd\n",
    "\n",
    "# Load dataset\n",
    "df = pd.read_csv(\"pumf_cchs.csv\")\n",
    "\n",
    "# Variables of interest\n",
    "# Dependent variable: BMI (categorical)\n",
    "# 0 = Normal/Underweight, 1 = Overweight/Obese, 6 = Valid skip, 9 = Not stated\n",
    "bmi_col = \"HWTDGISW\"\n",
    "\n",
    "# Independent variable: Education level\n",
    "# 1 = Less than secondary school graduation\n",
    "# 2 = Secondary school graduation with no post-secondary education\n",
    "# 3 = Post-secondary certificate/diploma/university degree\n",
    "# 9 = Not stated\n",
    "edu_col = \"EHG2DVH3\"\n",
    "\n",
    "# Quick exploration\n",
    "print(\"Unique values in BMI:\", df[bmi_col].value_counts(dropna=False))\n",
    "print(\"Unique values in Education Level:\", df[edu_col].value_counts(dropna=False))\n",
    "\n",
    "# Count missing or 'Not stated' values\n",
    "print(\"Skip / Not stated BMI:\", df[df[bmi_col].isin([6,9])].shape[0])\n",
    "print(\"Skip / Not stated Education Level:\", df[df[edu_col]==9].shape[0])\n",
    "\n",
    "# Optional: Filter out missing/not stated values for analysis\n",
    "df_clean = df[~df[bmi_col].isin([6,9]) & (df[edu_col]!=9)]\n",
    "\n",
    "print(\"Dataset shape after removing missing/not stated values:\", df_clean.shape)"
   ]
  },
  {
   "cell_type": "code",
   "execution_count": 15,
   "id": "149b6621-b4b4-4a1c-bc07-c957858fe66f",
   "metadata": {
    "id": "149b6621-b4b4-4a1c-bc07-c957858fe66f",
    "outputId": "6206c192-3d45-4449-91f5-202171a0be08"
   },
   "outputs": [
    {
     "name": "stdout",
     "output_type": "stream",
     "text": [
      "Rows removed: 18833\n"
     ]
    }
   ],
   "source": [
    "print(\"Rows removed:\", df.shape[0] - df_clean.shape[0])"
   ]
  },
  {
   "cell_type": "markdown",
   "id": "a717af1d-8050-48eb-b700-e12c4e3c90db",
   "metadata": {
    "id": "a717af1d-8050-48eb-b700-e12c4e3c90db"
   },
   "source": [
    "### Exploring BMI and Education Variables  \n",
    "\n",
    "Loaded dataset, mapped BMI (`HWTDGISW`) and Education (`EHG2DVH3`) codes to descriptions, counted values (with skips/not stated), and created a cleaned dataset."
   ]
  },
  {
   "cell_type": "code",
   "execution_count": 16,
   "id": "00c4f5a4-f788-475a-a4c8-ed8be2d5ddf6",
   "metadata": {
    "id": "00c4f5a4-f788-475a-a4c8-ed8be2d5ddf6",
    "outputId": "d18f12e0-ccfa-4e29-f7f1-bb530bbedd75"
   },
   "outputs": [
    {
     "name": "stdout",
     "output_type": "stream",
     "text": [
      "Unique values in BMI (with description):\n",
      "2.0 (Unknown): 56,516\n",
      "1.0 (Overweight/Obese): 37,555\n",
      "9.0 (Not stated): 7,682\n",
      "6.0 (Valid skip): 6,499\n",
      "\n",
      "Unique values in Education Level (with description):\n",
      "3.0 (Post-secondary certificate/diploma/university degree): 76,845\n",
      "2.0 (Secondary school graduation, no post-secondary): 16,069\n",
      "1.0 (Less than secondary school graduation): 9,469\n",
      "9.0 (Not stated): 5,869\n",
      "\n",
      "Skip / Not stated BMI: 14181\n",
      "Skip / Not stated Education Level: 5869\n",
      "\n",
      "Dataset shape after removing missing/not stated values: (89419, 691)\n"
     ]
    }
   ],
   "source": [
    "import pandas as pd\n",
    "\n",
    "# Load dataset\n",
    "df = pd.read_csv(\"pumf_cchs.csv\")\n",
    "\n",
    "# Variables of interest\n",
    "# Dependent variable: BMI (categorical)\n",
    "# 0 = Normal/Underweight, 1 = Overweight/Obese, 6 = Valid skip, 9 = Not stated\n",
    "bmi_col = \"HWTDGISW\"\n",
    "\n",
    "# Independent variable: Education level\n",
    "# 1 = Less than secondary school graduation\n",
    "# 2 = Secondary school graduation with no post-secondary education\n",
    "# 3 = Post-secondary certificate/diploma/university degree\n",
    "# 9 = Not stated\n",
    "edu_col = \"EHG2DVH3\"\n",
    "\n",
    "# Function to add commas\n",
    "def format_counts(series):\n",
    "    return series.apply(lambda x: f\"{x:,}\")\n",
    "\n",
    "# Quick exploration with descriptions\n",
    "bmi_counts = df[bmi_col].value_counts(dropna=False)\n",
    "bmi_desc = {\n",
    "    0: \"Normal/Underweight\",\n",
    "    1: \"Overweight/Obese\",\n",
    "    6: \"Valid skip\",\n",
    "    9: \"Not stated\"\n",
    "}\n",
    "print(\"Unique values in BMI (with description):\")\n",
    "for val, count in bmi_counts.items():\n",
    "    desc = bmi_desc.get(val, \"Unknown\")\n",
    "    print(f\"{val} ({desc}): {count:,}\")\n",
    "\n",
    "edu_counts = df[edu_col].value_counts(dropna=False)\n",
    "edu_desc = {\n",
    "    1: \"Less than secondary school graduation\",\n",
    "    2: \"Secondary school graduation, no post-secondary\",\n",
    "    3: \"Post-secondary certificate/diploma/university degree\",\n",
    "    9: \"Not stated\"\n",
    "}\n",
    "print(\"\\nUnique values in Education Level (with description):\")\n",
    "for val, count in edu_counts.items():\n",
    "    desc = edu_desc.get(val, \"Unknown\")\n",
    "    print(f\"{val} ({desc}): {count:,}\")\n",
    "\n",
    "# Count missing or 'Not stated' values\n",
    "print(\"\\nSkip / Not stated BMI:\", df[df[bmi_col].isin([6,9])].shape[0])\n",
    "print(\"Skip / Not stated Education Level:\", df[df[edu_col]==9].shape[0])\n",
    "\n",
    "# Optional: Filter out missing/not stated values for analysis\n",
    "df_clean = df[~df[bmi_col].isin([6,9]) & (df[edu_col]!=9)]\n",
    "print(\"\\nDataset shape after removing missing/not stated values:\", df_clean.shape)"
   ]
  },
  {
   "cell_type": "code",
   "execution_count": 17,
   "id": "8f772fb0-0f82-42d2-b282-24a7113b0488",
   "metadata": {
    "id": "8f772fb0-0f82-42d2-b282-24a7113b0488",
    "outputId": "a02e5ff3-0f91-453b-aee5-061e399d0186",
    "scrolled": true
   },
   "outputs": [
    {
     "name": "stdout",
     "output_type": "stream",
     "text": [
      "Cross-tabulation (counts):\n",
      "EHG2DVH3    1.0    2.0     3.0\n",
      "HWTDGISW                      \n",
      "1.0       3,011  5,380  27,322\n",
      "2.0       5,361  8,980  39,365\n",
      "\n",
      "Cross-tabulation (percentages by education level):\n",
      "EHG2DVH3    1.0    2.0    3.0\n",
      "HWTDGISW                     \n",
      "1.0       36.0%  37.5%  41.0%\n",
      "2.0       64.0%  62.5%  59.0%\n"
     ]
    }
   ],
   "source": [
    "# Cross-tabulation of BMI by Education (counts)\n",
    "ct_counts = pd.crosstab(df_clean['HWTDGISW'], df_clean['EHG2DVH3'])\n",
    "print(\"Cross-tabulation (counts):\")\n",
    "print(ct_counts.apply(lambda x: x.map(\"{:,}\".format)))  # adds commas\n",
    "\n",
    "# Cross-tabulation of BMI by Education (percentages by education level)\n",
    "ct_percent = pd.crosstab(df_clean['HWTDGISW'], df_clean['EHG2DVH3'], normalize='columns') * 100\n",
    "print(\"\\nCross-tabulation (percentages by education level):\")\n",
    "print(ct_percent.apply(lambda x: x.map(\"{:.1f}%\".format)))  # adds % sign"
   ]
  },
  {
   "cell_type": "code",
   "execution_count": 18,
   "id": "174f7d22-2c67-42a9-ba85-e33fc8f86373",
   "metadata": {
    "id": "174f7d22-2c67-42a9-ba85-e33fc8f86373",
    "outputId": "f221ae18-4a34-4d1c-edd9-0984058d5960"
   },
   "outputs": [
    {
     "name": "stdout",
     "output_type": "stream",
     "text": [
      "[3. 2. 1. 9.]\n"
     ]
    }
   ],
   "source": [
    "print(df[\"EHG2DVH3\"].unique())"
   ]
  },
  {
   "cell_type": "markdown",
   "id": "fdd1db9b-8575-495b-8d63-f68a2a09a4be",
   "metadata": {
    "id": "fdd1db9b-8575-495b-8d63-f68a2a09a4be"
   },
   "source": [
    "### Distribution of Education Levels  \n",
    "\n",
    "Mapped education codes to labels, calculated counts/percentages, and plotted a bar chart with values and percentages displayed on each bar.  "
   ]
  },
  {
   "cell_type": "code",
   "execution_count": 19,
   "id": "1d34e872-d25c-457e-adcf-3c91e8315418",
   "metadata": {
    "id": "1d34e872-d25c-457e-adcf-3c91e8315418",
    "outputId": "b670a521-adbf-440c-84d1-c7980cde7e53"
   },
   "outputs": [
    {
     "data": {
      "image/png": "[encoded data removed]",
      "text/plain": [
       "<Figure size 800x500 with 1 Axes>"
      ]
     },
     "metadata": {},
     "output_type": "display_data"
    }
   ],
   "source": [
    "import pandas as pd\n",
    "import matplotlib.pyplot as plt\n",
    "from matplotlib.ticker import FuncFormatter\n",
    "\n",
    "# Load dataset\n",
    "df = pd.read_csv(\"pumf_cchs.csv\")\n",
    "\n",
    "# Column of interest\n",
    "edu_col = \"EHG2DVH3\"\n",
    "\n",
    "# Map Education Level codes to labels\n",
    "edu_labels = {\n",
    "    1.0: \"Less than secondary\",\n",
    "    2.0: \"Secondary, no post-secondary\",\n",
    "    3.0: \"Post-secondary\",\n",
    "    9.0: \"Not stated\"\n",
    "}\n",
    "\n",
    "# Convert column to float and count values\n",
    "df[edu_col] = df[edu_col].astype(float)\n",
    "edu_counts = df[edu_col].value_counts().sort_index()\n",
    "edu_counts.index = edu_counts.index.map(edu_labels)  # replace numbers with labels\n",
    "\n",
    "# Percentages\n",
    "edu_percent = (edu_counts / edu_counts.sum()) * 100\n",
    "\n",
    "# Plot\n",
    "fig, ax = plt.subplots(figsize=(8,5))\n",
    "bars = ax.bar(\n",
    "    edu_counts.index,\n",
    "    edu_counts.values,\n",
    "    color=['#66c2a5', '#fc8d62', '#8da0cb', '#e78ac3']  # Custom colors\n",
    ")\n",
    "\n",
    "# Add counts and percentages on top of bars\n",
    "for i, bar in enumerate(bars):\n",
    "    height = bar.get_height()\n",
    "    ax.text(\n",
    "        bar.get_x() + bar.get_width()/2,\n",
    "        height + 2000,  # increase offset to avoid overlapping title\n",
    "        f\"{edu_counts.values[i]:,}\\n({edu_percent.values[i]:.1f}%)\",\n",
    "        ha='center', va='bottom', fontsize=10\n",
    "    )\n",
    "\n",
    "# Labels and title\n",
    "ax.set_title(\"Distribution of Education Levels\", fontsize=14, fontweight=\"bold\")\n",
    "ax.set_ylabel(\"Number of Respondents\")\n",
    "plt.xticks(rotation=25)\n",
    "\n",
    "# Increase y-axis limit\n",
    "ax.set_ylim(0, 90000)\n",
    "\n",
    "# Format y-axis with commas\n",
    "ax.yaxis.set_major_formatter(FuncFormatter(lambda x, p: f\"{int(x):,}\"))\n",
    "\n",
    "plt.tight_layout()\n",
    "\n",
    "# Save the chart as an image\n",
    "plt.savefig(\"education_distribution.png\", dpi=300, bbox_inches=\"tight\")\n",
    "\n",
    "plt.show()"
   ]
  },
  {
   "cell_type": "markdown",
   "id": "e69cb247-614d-4eb1-8b97-6fb1777e22e5",
   "metadata": {
    "id": "e69cb247-614d-4eb1-8b97-6fb1777e22e5"
   },
   "source": [
    "### BMI by Education Level  \n",
    "\n",
    "Created a cross-tab of BMI vs. education, then plotted a stacked bar chart showing the percentage distribution across categories."
   ]
  },
  {
   "cell_type": "code",
   "execution_count": 20,
   "id": "8bf609fb-08be-46c1-b234-fa83edddbbff",
   "metadata": {
    "id": "8bf609fb-08be-46c1-b234-fa83edddbbff",
    "outputId": "93fdd606-fddf-4755-ad5f-879210f8a429"
   },
   "outputs": [
    {
     "data": {
      "image/png": "[encoded data removed]",
      "text/plain": [
       "<Figure size 800x500 with 1 Axes>"
      ]
     },
     "metadata": {},
     "output_type": "display_data"
    }
   ],
   "source": [
    "import pandas as pd\n",
    "import matplotlib.pyplot as plt\n",
    "\n",
    "# Cross-tabulate BMI by Education\n",
    "ct = pd.crosstab(df_clean['EHG2DVH3'], df_clean['HWTDGISW'], normalize='index') * 100\n",
    "\n",
    "# Plot stacked bar chart\n",
    "ax = ct.plot(\n",
    "    kind='bar',\n",
    "    stacked=True,\n",
    "    figsize=(8, 5),\n",
    "    color=['#1f77b4', '#ff7f00']  # Optional: colors for Normal/Underweight and Overweight/Obese\n",
    ")\n",
    "\n",
    "# Add labels and title\n",
    "plt.xlabel('Education Level', fontsize=12)\n",
    "plt.ylabel('Percentage of Adults (%)', fontsize=12)\n",
    "plt.title('Distribution of BMI by Education Level', fontsize=14, fontweight='bold')\n",
    "plt.xticks(ticks=[0,1,2], labels=[\n",
    "    'Less than secondary',\n",
    "    'Secondary, no post-secondary',\n",
    "    'Post-secondary'\n",
    "], fontsize=8, rotation=0)\n",
    "\n",
    "# Add percentages on bars\n",
    "for p in ax.patches:\n",
    "    width = p.get_width()\n",
    "    height = p.get_height()\n",
    "    x, y = p.get_xy()\n",
    "    if height > 0:  # only annotate non-zero segments\n",
    "        ax.text(x + width/2, y + height/2, f'{height:.1f}%', ha='center', va='center', fontsize=10, color='white')\n",
    "\n",
    "plt.legend(['Normal/Underweight', 'Overweight/Obese'], title='BMI Category', bbox_to_anchor=(1.05, 1))\n",
    "plt.tight_layout()\n",
    "plt.subplots_adjust(left=0.15, right=0.8)\n",
    "plt.savefig('bmi_by_education.png', dpi=300, bbox_inches='tight')\n",
    "plt.show()"
   ]
  },
  {
   "cell_type": "markdown",
   "id": "09802e8f-c5e4-4337-97fb-ff5e463f308c",
   "metadata": {
    "id": "09802e8f-c5e4-4337-97fb-ff5e463f308c"
   },
   "source": [
    "### Chi-Square Test of BMI vs. Education  \n",
    "\n",
    "Built a contingency table and ran a chi-square test to evaluate the association between BMI and education level.  "
   ]
  },
  {
   "cell_type": "code",
   "execution_count": 21,
   "id": "9d01d40d-75ea-4aa2-a706-44a2d4f06df8",
   "metadata": {
    "id": "9d01d40d-75ea-4aa2-a706-44a2d4f06df8",
    "outputId": "ea669362-90dc-4aec-b6d7-7c699c7bb31b"
   },
   "outputs": [
    {
     "name": "stdout",
     "output_type": "stream",
     "text": [
      "Chi-square statistic: 121.33\n",
      "Degrees of freedom: 2\n",
      "P-value: 0.0000\n",
      "Expected counts:\n",
      " [[ 3343.68798577  5735.23166217 26634.08035205]\n",
      " [ 5028.31201423  8624.76833783 40052.91964795]]\n"
     ]
    }
   ],
   "source": [
    "import pandas as pd\n",
    "from scipy.stats import chi2_contingency\n",
    "\n",
    "# Cross-tabulation with counts\n",
    "ct_counts = pd.crosstab(df_clean['HWTDGISW'], df_clean['EHG2DVH3'])\n",
    "\n",
    "# Chi-square test\n",
    "chi2, p, dof, expected = chi2_contingency(ct_counts)\n",
    "\n",
    "print(f\"Chi-square statistic: {chi2:.2f}\")\n",
    "print(f\"Degrees of freedom: {dof}\")\n",
    "print(f\"P-value: {p:.4f}\")\n",
    "print(\"Expected counts:\\n\", expected)"
   ]
  },
  {
   "cell_type": "markdown",
   "id": "3770f91a-8e4c-4b16-8b81-3ac7f0c598ae",
   "metadata": {
    "id": "3770f91a-8e4c-4b16-8b81-3ac7f0c598ae"
   },
   "source": [
    "### Chi-Square Observed vs. Expected  \n",
    "\n",
    "Compared observed and expected counts of BMI by education, and created a table showing differences for each category.  "
   ]
  },
  {
   "cell_type": "code",
   "execution_count": 22,
   "id": "aa796832-edcc-476b-a97c-7009b68ec9ea",
   "metadata": {
    "id": "aa796832-edcc-476b-a97c-7009b68ec9ea",
    "outputId": "d8dcae79-2efd-45e6-9738-b1980ea6f53e"
   },
   "outputs": [
    {
     "name": "stderr",
     "output_type": "stream",
     "text": [
      "/var/folders/_w/188tytv567j0h1wnz7p5x_sw0000gn/T/ipykernel_25913/3029644076.py:23: FutureWarning: DataFrame.applymap has been deprecated. Use DataFrame.map instead.\n",
      "  comparison_df = comparison_df.applymap(lambda x: f\"{int(x):,}\")\n"
     ]
    },
    {
     "data": {
      "text/html": [
       "<div>\n",
       "<style scoped>\n",
       "    .dataframe tbody tr th:only-of-type {\n",
       "        vertical-align: middle;\n",
       "    }\n",
       "\n",
       "    .dataframe tbody tr th {\n",
       "        vertical-align: top;\n",
       "    }\n",
       "\n",
       "    .dataframe thead th {\n",
       "        text-align: right;\n",
       "    }\n",
       "</style>\n",
       "<table border=\"1\" class=\"dataframe\">\n",
       "  <thead>\n",
       "    <tr style=\"text-align: right;\">\n",
       "      <th></th>\n",
       "      <th>Observed 1.0</th>\n",
       "      <th>Observed 2.0</th>\n",
       "      <th>Expected 1.0</th>\n",
       "      <th>Expected 2.0</th>\n",
       "      <th>Diff 1.0</th>\n",
       "      <th>Diff 2.0</th>\n",
       "    </tr>\n",
       "    <tr>\n",
       "      <th>EHG2DVH3</th>\n",
       "      <th></th>\n",
       "      <th></th>\n",
       "      <th></th>\n",
       "      <th></th>\n",
       "      <th></th>\n",
       "      <th></th>\n",
       "    </tr>\n",
       "  </thead>\n",
       "  <tbody>\n",
       "    <tr>\n",
       "      <th>1.0</th>\n",
       "      <td>3,011</td>\n",
       "      <td>5,361</td>\n",
       "      <td>3,343</td>\n",
       "      <td>5,028</td>\n",
       "      <td>-332</td>\n",
       "      <td>332</td>\n",
       "    </tr>\n",
       "    <tr>\n",
       "      <th>2.0</th>\n",
       "      <td>5,380</td>\n",
       "      <td>8,980</td>\n",
       "      <td>5,735</td>\n",
       "      <td>8,624</td>\n",
       "      <td>-355</td>\n",
       "      <td>355</td>\n",
       "    </tr>\n",
       "    <tr>\n",
       "      <th>3.0</th>\n",
       "      <td>27,322</td>\n",
       "      <td>39,365</td>\n",
       "      <td>26,634</td>\n",
       "      <td>40,052</td>\n",
       "      <td>687</td>\n",
       "      <td>-687</td>\n",
       "    </tr>\n",
       "  </tbody>\n",
       "</table>\n",
       "</div>"
      ],
      "text/plain": [
       "         Observed 1.0 Observed 2.0 Expected 1.0 Expected 2.0 Diff 1.0 Diff 2.0\n",
       "EHG2DVH3                                                                      \n",
       "1.0             3,011        5,361        3,343        5,028     -332      332\n",
       "2.0             5,380        8,980        5,735        8,624     -355      355\n",
       "3.0            27,322       39,365       26,634       40,052      687     -687"
      ]
     },
     "execution_count": 22,
     "metadata": {},
     "output_type": "execute_result"
    }
   ],
   "source": [
    "import pandas as pd\n",
    "import numpy as np\n",
    "from scipy.stats import chi2_contingency\n",
    "\n",
    "# Cross-tab of cleaned data\n",
    "ct = pd.crosstab(df_clean['EHG2DVH3'], df_clean['HWTDGISW'])\n",
    "\n",
    "# Chi-square test\n",
    "chi2, p, dof, expected = chi2_contingency(ct)\n",
    "\n",
    "# Create a DataFrame for comparison\n",
    "observed = ct.values\n",
    "expected_df = pd.DataFrame(expected, index=ct.index, columns=ct.columns)\n",
    "diff_df = pd.DataFrame(observed - expected, index=ct.index, columns=ct.columns)\n",
    "\n",
    "comparison_df = pd.concat([\n",
    "    pd.DataFrame(observed, index=ct.index, columns=[f'Observed {c}' for c in ct.columns]),\n",
    "    pd.DataFrame(expected, index=ct.index, columns=[f'Expected {c}' for c in ct.columns]),\n",
    "    pd.DataFrame(observed - expected, index=ct.index, columns=[f'Diff {c}' for c in ct.columns])\n",
    "], axis=1)\n",
    "\n",
    "# Optional: format numbers with commas\n",
    "comparison_df = comparison_df.applymap(lambda x: f\"{int(x):,}\")\n",
    "\n",
    "comparison_df"
   ]
  },
  {
   "cell_type": "code",
   "execution_count": 23,
   "id": "8883894b-3f01-4e1d-a9ed-0747ffceff89",
   "metadata": {
    "id": "8883894b-3f01-4e1d-a9ed-0747ffceff89",
    "outputId": "f625eabf-1d77-475f-db45-2ae631430d41"
   },
   "outputs": [
    {
     "name": "stdout",
     "output_type": "stream",
     "text": [
      "                BMI               Education Level Observed   Expected  \\\n",
      "0  Overweight/Obese           Less than secondary    3,011   3,343.69   \n",
      "1  Overweight/Obese  Secondary, no post-secondary    5,380   5,735.23   \n",
      "2  Overweight/Obese                Post-secondary   27,322  26,634.08   \n",
      "3               NaN           Less than secondary    5,361   5,028.31   \n",
      "4               NaN  Secondary, no post-secondary    8,980   8,624.77   \n",
      "5               NaN                Post-secondary   39,365  40,052.92   \n",
      "\n",
      "  Contribution  \n",
      "0        33.10  \n",
      "1        22.00  \n",
      "2        17.77  \n",
      "3        22.01  \n",
      "4        14.63  \n",
      "5        11.82  \n"
     ]
    }
   ],
   "source": [
    "import pandas as pd\n",
    "import numpy as np\n",
    "from scipy.stats import chi2_contingency\n",
    "\n",
    "# Cross-tabulation of observed counts\n",
    "observed = pd.crosstab(df_clean['HWTDGISW'], df_clean['EHG2DVH3'])\n",
    "\n",
    "# Perform chi-square test to get expected counts\n",
    "chi2, p, dof, expected = chi2_contingency(observed)\n",
    "\n",
    "# Convert expected counts to DataFrame with same index/columns as observed\n",
    "expected_df = pd.DataFrame(expected, index=observed.index, columns=observed.columns)\n",
    "\n",
    "# Compute contributions to chi-square\n",
    "contrib = (observed - expected_df)**2 / expected_df\n",
    "\n",
    "# Combine into one table\n",
    "report_table = pd.concat([observed.stack(), expected_df.stack(), contrib.stack()], axis=1)\n",
    "report_table.columns = ['Observed', 'Expected', 'Contribution']\n",
    "report_table = report_table.reset_index()\n",
    "report_table.rename(columns={'HWTDGISW':'BMI', 'EHG2DVH3':'Education Level'}, inplace=True)\n",
    "\n",
    "# Optional: map BMI and Education codes to labels\n",
    "bmi_labels = {0: \"Normal/Underweight\", 1: \"Overweight/Obese\"}\n",
    "edu_labels = {1: \"Less than secondary\", 2: \"Secondary, no post-secondary\", 3: \"Post-secondary\"}\n",
    "report_table['BMI'] = report_table['BMI'].map(bmi_labels)\n",
    "report_table['Education Level'] = report_table['Education Level'].map(edu_labels)\n",
    "\n",
    "# Format numbers with commas and round contributions\n",
    "report_table['Observed'] = report_table['Observed'].map('{:,}'.format)\n",
    "report_table['Expected'] = report_table['Expected'].map('{:,.2f}'.format)\n",
    "report_table['Contribution'] = report_table['Contribution'].map('{:.2f}'.format)\n",
    "\n",
    "# Display the table\n",
    "print(report_table)\n",
    "\n",
    "# Optional: save as CSV\n",
    "report_table.to_csv('chi_square_contributions.csv', index=False)\n"
   ]
  },
  {
   "cell_type": "markdown",
   "id": "b34fdf0d-aa71-4037-8954-49cbf562a4a3",
   "metadata": {
    "id": "b34fdf0d-aa71-4037-8954-49cbf562a4a3"
   },
   "source": [
    "### Chi-Square Contribution Heatmap  \n",
    "\n",
    "Ran a chi-square test on BMI vs. education, calculated cell contributions, and visualized them with a heatmap.  "
   ]
  },
  {
   "cell_type": "code",
   "execution_count": 24,
   "id": "cb20960f-cc97-4448-ae27-6c94ac985b52",
   "metadata": {
    "id": "cb20960f-cc97-4448-ae27-6c94ac985b52",
    "outputId": "66054dde-5da9-42ba-d994-1f60a79d9941"
   },
   "outputs": [
    {
     "data": {
      "image/png": "[encoded data removed]",
      "text/plain": [
       "<Figure size 800x500 with 2 Axes>"
      ]
     },
     "metadata": {},
     "output_type": "display_data"
    }
   ],
   "source": [
    "import pandas as pd\n",
    "import matplotlib.pyplot as plt\n",
    "import seaborn as sns\n",
    "from scipy.stats import chi2_contingency\n",
    "\n",
    "# Assume df_clean already has missing/not stated values removed\n",
    "\n",
    "# Columns\n",
    "bmi_col = 'HWTDGISW'\n",
    "edu_col = 'EHG2DVH3'\n",
    "\n",
    "# Only valid BMI categories\n",
    "valid_bmi = [1, 2]  # 1 = Normal/Underweight, 2 = Overweight/Obese\n",
    "observed = pd.crosstab(df_clean[edu_col], df_clean[bmi_col])  # education vs BMI counts\n",
    "observed = observed[valid_bmi]  # keep only valid BMI\n",
    "\n",
    "# Map codes to labels\n",
    "bmi_labels = {1: \"Normal/Underweight\", 2: \"Overweight/Obese\"}\n",
    "edu_labels = {1: \"Less than secondary\", 2: \"Secondary, no post-secondary\", 3: \"Post-secondary\"}\n",
    "\n",
    "observed.columns = observed.columns.map(bmi_labels)\n",
    "observed.index = observed.index.map(edu_labels)\n",
    "\n",
    "# Chi-square test\n",
    "chi2, p, dof, expected = chi2_contingency(observed)\n",
    "\n",
    "# Expected counts as DataFrame\n",
    "expected_df = pd.DataFrame(expected, index=observed.index, columns=observed.columns)\n",
    "\n",
    "# Contribution to Chi-square\n",
    "contrib = (observed - expected_df)**2 / expected_df\n",
    "\n",
    "# Plot heatmap\n",
    "plt.figure(figsize=(8,5))\n",
    "sns.heatmap(contrib, annot=True, fmt=\".2f\", cmap=\"YlOrBr\", cbar_kws={'label': 'Chi-square Contribution'})\n",
    "plt.title(\"Chi-square Contributions by BMI and Education Level\", fontsize=14, fontweight='bold')\n",
    "plt.ylabel(\"Education Level\")\n",
    "plt.xlabel(\"BMI Category\")\n",
    "plt.yticks(fontsize=6, rotation=0)\n",
    "plt.xticks(fontsize=6, rotation=0)\n",
    "plt.tight_layout()\n",
    "plt.savefig(\"chi_square_contributions_heatmap.png\", dpi=300)\n",
    "plt.show()"
   ]
  },
  {
   "cell_type": "code",
   "execution_count": 25,
   "id": "7052afff-7621-4740-bf6c-ec43021af176",
   "metadata": {
    "id": "7052afff-7621-4740-bf6c-ec43021af176",
    "outputId": "a61f9bc2-e774-4b27-9c5b-8194e0662d88"
   },
   "outputs": [
    {
     "name": "stdout",
     "output_type": "stream",
     "text": [
      "HWTDGISW                      Normal/Underweight (Observed)  \\\n",
      "EHG2DVH3                                                      \n",
      "Less than secondary                                    3011   \n",
      "Secondary, no post-secondary                           5380   \n",
      "Post-secondary                                        27322   \n",
      "\n",
      "HWTDGISW                      Overweight/Obese (Observed)  \\\n",
      "EHG2DVH3                                                    \n",
      "Less than secondary                                  5361   \n",
      "Secondary, no post-secondary                         8980   \n",
      "Post-secondary                                      39365   \n",
      "\n",
      "HWTDGISW                      Normal/Underweight (Expected)  \\\n",
      "EHG2DVH3                                                      \n",
      "Less than secondary                             3343.687986   \n",
      "Secondary, no post-secondary                    5735.231662   \n",
      "Post-secondary                                 26634.080352   \n",
      "\n",
      "HWTDGISW                      Overweight/Obese (Expected)  \\\n",
      "EHG2DVH3                                                    \n",
      "Less than secondary                           5028.312014   \n",
      "Secondary, no post-secondary                  8624.768338   \n",
      "Post-secondary                               40052.919648   \n",
      "\n",
      "HWTDGISW                      Normal/Underweight (Chi2 Contrib)  \\\n",
      "EHG2DVH3                                                          \n",
      "Less than secondary                                   33.101562   \n",
      "Secondary, no post-secondary                          22.002517   \n",
      "Post-secondary                                        17.767966   \n",
      "\n",
      "HWTDGISW                      Overweight/Obese (Chi2 Contrib)  \n",
      "EHG2DVH3                                                       \n",
      "Less than secondary                                 22.011621  \n",
      "Secondary, no post-secondary                        14.631064  \n",
      "Post-secondary                                      11.815205  \n"
     ]
    }
   ],
   "source": [
    "import pandas as pd\n",
    "from scipy.stats import chi2_contingency\n",
    "\n",
    "# Columns\n",
    "bmi_col = 'HWTDGISW'\n",
    "edu_col = 'EHG2DVH3'\n",
    "\n",
    "# Only valid BMI categories\n",
    "valid_bmi = [1, 2]  # 1 = Normal/Underweight, 2 = Overweight/Obese\n",
    "observed = pd.crosstab(df_clean[edu_col], df_clean[bmi_col])\n",
    "observed = observed[valid_bmi]  # keep only valid BMI\n",
    "\n",
    "# Map codes to labels\n",
    "bmi_labels = {1: \"Normal/Underweight\", 2: \"Overweight/Obese\"}\n",
    "edu_labels = {1: \"Less than secondary\", 2: \"Secondary, no post-secondary\", 3: \"Post-secondary\"}\n",
    "\n",
    "observed.columns = observed.columns.map(bmi_labels)\n",
    "observed.index = observed.index.map(edu_labels)\n",
    "\n",
    "# Chi-square test\n",
    "chi2, p, dof, expected = chi2_contingency(observed)\n",
    "\n",
    "# Create DataFrames\n",
    "expected_df = pd.DataFrame(expected, index=observed.index, columns=observed.columns)\n",
    "contrib_df = (observed - expected_df)**2 / expected_df\n",
    "\n",
    "# Combine all into one DataFrame for review\n",
    "results_df = pd.concat([observed.add_suffix(' (Observed)'),\n",
    "                        expected_df.add_suffix(' (Expected)'),\n",
    "                        contrib_df.add_suffix(' (Chi2 Contrib)')], axis=1)\n",
    "\n",
    "# Display the table\n",
    "print(results_df)"
   ]
  },
  {
   "cell_type": "markdown",
   "id": "1fdc259a",
   "metadata": {
    "id": "1fdc259a"
   },
   "source": [
    "# Hypothesis 3"
   ]
  },
  {
   "cell_type": "markdown",
   "id": "3878e1de",
   "metadata": {
    "id": "3878e1de"
   },
   "source": [
    "### There is a significant difference in the weekly minutes of physical activity between Canadian adults with and without obesity."
   ]
  },
  {
   "cell_type": "markdown",
   "id": "eef3285b",
   "metadata": {
    "id": "eef3285b"
   },
   "source": [
    "### Weekly Physical Activity Minutes  \n",
    "\n",
    "Filtered valid activity minutes, counted frequencies, and created a DataFrame (`minutes_df`) showing minutes per week and their frequency.  "
   ]
  },
  {
   "cell_type": "code",
   "execution_count": 26,
   "id": "4700357a",
   "metadata": {
    "id": "4700357a",
    "outputId": "ea1ac3b1-87a2-4f05-e295-1c1725e3d910"
   },
   "outputs": [
    {
     "name": "stdout",
     "output_type": "stream",
     "text": [
      "    Minutes_per_Week  Frequency\n",
      "0                0.0       5610\n",
      "1               10.0        117\n",
      "2               11.0          1\n",
      "3               12.0          3\n",
      "4               13.0          1\n",
      "5               15.0        122\n",
      "6               19.0          1\n",
      "7               20.0        251\n",
      "8               22.0          1\n",
      "9               24.0          2\n",
      "10              25.0         43\n"
     ]
    }
   ],
   "source": [
    "import pandas as pd\n",
    "\n",
    "# Filter valid values (exclude codes like 99996–99999)\n",
    "valid_minutes = df.loc[df[\"PAADVMVA\"].between(0, 6000), \"PAADVMVA\"]\n",
    "\n",
    "# Count frequency of each value\n",
    "minutes_counts = valid_minutes.value_counts().sort_index()\n",
    "\n",
    "# Convert to DataFrame with proper headers\n",
    "minutes_df = minutes_counts.reset_index()\n",
    "minutes_df.columns = [\"Minutes_per_Week\", \"Frequency\"]\n",
    "\n",
    "# Display first 11 rows\n",
    "print(minutes_df.head(11))"
   ]
  },
  {
   "cell_type": "markdown",
   "id": "890f617d",
   "metadata": {
    "id": "890f617d"
   },
   "source": [
    "### Shapiro-Wilk Normality Test  \n",
    "\n",
    "Tested physical activity minutes for obese vs. non-obese groups using Shapiro-Wilk and summarized results in a table.  "
   ]
  },
  {
   "cell_type": "code",
   "execution_count": 27,
   "id": "53f3cc70",
   "metadata": {
    "id": "53f3cc70",
    "outputId": "aea9fdd3-3870-423a-ec8a-139e57674ae8"
   },
   "outputs": [
    {
     "data": {
      "text/html": [
       "<div>\n",
       "<style scoped>\n",
       "    .dataframe tbody tr th:only-of-type {\n",
       "        vertical-align: middle;\n",
       "    }\n",
       "\n",
       "    .dataframe tbody tr th {\n",
       "        vertical-align: top;\n",
       "    }\n",
       "\n",
       "    .dataframe thead th {\n",
       "        text-align: right;\n",
       "    }\n",
       "</style>\n",
       "<table border=\"1\" class=\"dataframe\">\n",
       "  <thead>\n",
       "    <tr style=\"text-align: right;\">\n",
       "      <th></th>\n",
       "      <th>Group</th>\n",
       "      <th>Statistic</th>\n",
       "      <th>p-value</th>\n",
       "    </tr>\n",
       "  </thead>\n",
       "  <tbody>\n",
       "    <tr>\n",
       "      <th>0</th>\n",
       "      <td>Obese</td>\n",
       "      <td>0.498</td>\n",
       "      <td>3.028e-80</td>\n",
       "    </tr>\n",
       "    <tr>\n",
       "      <th>1</th>\n",
       "      <td>Non-obese</td>\n",
       "      <td>0.443</td>\n",
       "      <td>1.733e-82</td>\n",
       "    </tr>\n",
       "  </tbody>\n",
       "</table>\n",
       "</div>"
      ],
      "text/plain": [
       "       Group  Statistic    p-value\n",
       "0      Obese      0.498  3.028e-80\n",
       "1  Non-obese      0.443  1.733e-82"
      ]
     },
     "metadata": {},
     "output_type": "display_data"
    }
   ],
   "source": [
    "from scipy.stats import shapiro\n",
    "import pandas as pd\n",
    "\n",
    "# Ensure columns\n",
    "df[\"PA_minutes\"] = df.get(\"PA_minutes\", df[\"PAADVMVA\"])\n",
    "df[\"Obesity\"] = df.get(\"Obesity\", (df[\"HWTDGISW\"] == 2).astype(int))\n",
    "\n",
    "# Split + subsample\n",
    "pa_obese = df.loc[df[\"Obesity\"] == 1, \"PA_minutes\"].dropna().sample(n=min(5000, df[\"Obesity\"].sum()), random_state=1)\n",
    "pa_nonobese = df.loc[df[\"Obesity\"] == 0, \"PA_minutes\"].dropna().sample(n=min(5000, (df[\"Obesity\"] == 0).sum()), random_state=1)\n",
    "\n",
    "# Shapiro-Wilk\n",
    "sh_obese, p_obese = shapiro(pa_obese)\n",
    "sh_nonobese, p_nonobese = shapiro(pa_nonobese)\n",
    "\n",
    "# Results\n",
    "results_df = pd.DataFrame({\n",
    "    \"Group\": [\"Obese\", \"Non-obese\"],\n",
    "    \"Statistic\": [round(sh_obese, 3), round(sh_nonobese, 3)],\n",
    "    \"p-value\": [f\"{p_obese:.3e}\", f\"{p_nonobese:.3e}\"]\n",
    "})\n",
    "\n",
    "display(results_df)"
   ]
  },
  {
   "cell_type": "markdown",
   "id": "2dcef8e8-802d-4c13-b8bb-60d94d255e22",
   "metadata": {
    "id": "2dcef8e8-802d-4c13-b8bb-60d94d255e22"
   },
   "source": [
    "### QQ Plots for Normality  \n",
    "\n",
    "Generated QQ plots for obese and non-obese groups, including Shapiro-Wilk results, to visually assess normality of physical activity minutes.  "
   ]
  },
  {
   "cell_type": "code",
   "execution_count": 28,
   "id": "3bfe2906",
   "metadata": {
    "id": "3bfe2906",
    "outputId": "6a41d11b-4b5c-48b6-c5a5-7b79b632dc67"
   },
   "outputs": [
    {
     "data": {
      "image/png": "[encoded data removed]",
      "text/plain": [
       "<Figure size 1250x520 with 2 Axes>"
      ]
     },
     "metadata": {},
     "output_type": "display_data"
    }
   ],
   "source": [
    "import numpy as np\n",
    "import matplotlib.pyplot as plt\n",
    "from scipy import stats\n",
    "import matplotlib.ticker as mtick\n",
    "\n",
    "# pa_obese and pa_nonobese should be 1D arrays/Series of weekly minutes (cleaned, no NaNs)\n",
    "\n",
    "def qqplot(ax, x, title, point_color, line_color=\"crimson\"):\n",
    "    # Generate theoretical vs observed quantiles\n",
    "    (osm, osr), (slope, intercept, _) = stats.probplot(np.asarray(x), dist=\"norm\")\n",
    "\n",
    "    # Scatter plot of observed vs theoretical\n",
    "    ax.scatter(osm, osr, s=8, alpha=0.65, label=\"Observed\", color=point_color)\n",
    "\n",
    "    # Theoretical line\n",
    "    q = np.linspace(osm.min(), osm.max(), 200)\n",
    "    ax.plot(q, slope*q + intercept, lw=2, label=\"Theoretical line\", color=line_color)\n",
    "\n",
    "    # Shapiro-Wilk normality test\n",
    "    w, p = stats.shapiro(x)\n",
    "    ax.text(0.02, 0.98, f\"Shapiro–Wilk: W={w:.3f}\\n p={p:.1e}\",\n",
    "            transform=ax.transAxes, ha=\"left\", va=\"top\",\n",
    "            fontsize=10, bbox=dict(boxstyle=\"round\", fc=\"white\", ec=\"0.8\"))\n",
    "\n",
    "    # Axis formatting\n",
    "    ax.set(title=title, xlabel=\"Theoretical quantiles\", ylabel=\"Sample quantiles\")\n",
    "    ax.grid(True, alpha=0.25)\n",
    "    ax.legend(loc=\"lower right\", frameon=False, fontsize=9)\n",
    "\n",
    "    #  Add commas to Y axis\n",
    "    ax.yaxis.set_major_formatter(mtick.StrMethodFormatter(\"{x:,.0f}\"))\n",
    "\n",
    "# Create subplots\n",
    "fig, axes = plt.subplots(1, 2, figsize=(12.5, 5.2), constrained_layout=True)\n",
    "\n",
    "# QQ plots for obese and non-obese groups\n",
    "qqplot(axes[0], pa_obese, \"QQ plot – Obese group\", point_color=\"#e15759\")\n",
    "qqplot(axes[1], pa_nonobese, \"QQ plot – Non-obese group\", point_color=\"#2ca02c\")\n",
    "\n",
    "# Overall title\n",
    "fig.suptitle(\"Normality diagnostics for weekly physical activity minutes\",\n",
    "             fontsize=14, fontweight=\"bold\")\n",
    "\n",
    "# Note below the plots\n",
    "fig.text(0.5, -0.02,\n",
    "         \"Note: The red line is the expected 1:1 line under normality; \"\n",
    "         \"points far from the line indicate departures from normality.\",\n",
    "         ha=\"center\", fontsize=10)\n",
    "\n",
    "plt.show()\n"
   ]
  },
  {
   "cell_type": "markdown",
   "id": "4f443fe1",
   "metadata": {
    "id": "4f443fe1"
   },
   "source": [
    "### Levene’s Test\n",
    "\n",
    "Tested variance equality of physical activity minutes between obese and non-obese groups using Levene’s test.  "
   ]
  },
  {
   "cell_type": "code",
   "execution_count": 29,
   "id": "34638957",
   "metadata": {
    "id": "34638957",
    "outputId": "9d643480-5f67-4e3d-848c-19bcb2f1c301"
   },
   "outputs": [
    {
     "data": {
      "text/html": [
       "<div>\n",
       "<style scoped>\n",
       "    .dataframe tbody tr th:only-of-type {\n",
       "        vertical-align: middle;\n",
       "    }\n",
       "\n",
       "    .dataframe tbody tr th {\n",
       "        vertical-align: top;\n",
       "    }\n",
       "\n",
       "    .dataframe thead th {\n",
       "        text-align: right;\n",
       "    }\n",
       "</style>\n",
       "<table border=\"1\" class=\"dataframe\">\n",
       "  <thead>\n",
       "    <tr style=\"text-align: right;\">\n",
       "      <th></th>\n",
       "      <th>Test</th>\n",
       "      <th>Statistic</th>\n",
       "      <th>p-value</th>\n",
       "    </tr>\n",
       "  </thead>\n",
       "  <tbody>\n",
       "    <tr>\n",
       "      <th>0</th>\n",
       "      <td>Levene's test</td>\n",
       "      <td>365.184</td>\n",
       "      <td>2.851e-81</td>\n",
       "    </tr>\n",
       "  </tbody>\n",
       "</table>\n",
       "</div>"
      ],
      "text/plain": [
       "            Test  Statistic    p-value\n",
       "0  Levene's test    365.184  2.851e-81"
      ]
     },
     "metadata": {},
     "output_type": "display_data"
    }
   ],
   "source": [
    "from scipy.stats import levene\n",
    "import pandas as pd\n",
    "\n",
    "# Split groups\n",
    "pa_obese = df.loc[df[\"Obesity\"] == 1, \"PA_minutes\"].dropna()\n",
    "pa_nonobese = df.loc[df[\"Obesity\"] == 0, \"PA_minutes\"].dropna()\n",
    "\n",
    "# Levene's test\n",
    "lev = levene(pa_obese, pa_nonobese)\n",
    "\n",
    "# Results DataFrame\n",
    "lev_df = pd.DataFrame({\n",
    "    \"Test\": [\"Levene's test\"],\n",
    "    \"Statistic\": [round(lev.statistic, 3)],\n",
    "    \"p-value\": [f\"{lev.pvalue:.3e}\"]\n",
    "})\n",
    "\n",
    "display(lev_df)"
   ]
  },
  {
   "cell_type": "markdown",
   "id": "3efb82c0",
   "metadata": {
    "id": "3efb82c0"
   },
   "source": [
    "### Welch’s t-test  \n",
    "\n",
    "Compared mean physical activity minutes between obese and non-obese groups using Welch’s t-test.  "
   ]
  },
  {
   "cell_type": "code",
   "execution_count": 30,
   "id": "f157c419",
   "metadata": {
    "id": "f157c419",
    "outputId": "f14a249a-eb15-41ea-a2b7-71756b999eff"
   },
   "outputs": [
    {
     "data": {
      "text/html": [
       "<div>\n",
       "<style scoped>\n",
       "    .dataframe tbody tr th:only-of-type {\n",
       "        vertical-align: middle;\n",
       "    }\n",
       "\n",
       "    .dataframe tbody tr th {\n",
       "        vertical-align: top;\n",
       "    }\n",
       "\n",
       "    .dataframe thead th {\n",
       "        text-align: right;\n",
       "    }\n",
       "</style>\n",
       "<table border=\"1\" class=\"dataframe\">\n",
       "  <thead>\n",
       "    <tr style=\"text-align: right;\">\n",
       "      <th></th>\n",
       "      <th>Test</th>\n",
       "      <th>t-statistic</th>\n",
       "      <th>p-value</th>\n",
       "    </tr>\n",
       "  </thead>\n",
       "  <tbody>\n",
       "    <tr>\n",
       "      <th>0</th>\n",
       "      <td>Welch's t-test</td>\n",
       "      <td>-19.189</td>\n",
       "      <td>6.283e-82</td>\n",
       "    </tr>\n",
       "  </tbody>\n",
       "</table>\n",
       "</div>"
      ],
      "text/plain": [
       "             Test  t-statistic    p-value\n",
       "0  Welch's t-test      -19.189  6.283e-82"
      ]
     },
     "execution_count": 30,
     "metadata": {},
     "output_type": "execute_result"
    }
   ],
   "source": [
    "# Split groups\n",
    "obese_group = df.loc[df[\"Obesity\"] == 1, \"PA_minutes\"].dropna()\n",
    "non_obese_group = df.loc[df[\"Obesity\"] == 0, \"PA_minutes\"].dropna()\n",
    "\n",
    "# Welch's t-test (equal_var=False)\n",
    "t_stat, p_val = stats.ttest_ind(obese_group, non_obese_group, equal_var=False)\n",
    "\n",
    "# Convert results into a DataFrame con notación científica\n",
    "results_df = pd.DataFrame({\n",
    "    \"Test\": [\"Welch's t-test\"],\n",
    "    \"t-statistic\": [round(t_stat, 3)],\n",
    "    \"p-value\": [f\"{p_val:.3e}\"]\n",
    "})\n",
    "\n",
    "results_df"
   ]
  },
  {
   "cell_type": "markdown",
   "id": "4b0acbca",
   "metadata": {
    "id": "4b0acbca"
   },
   "source": [
    "### Descriptive measures of each group"
   ]
  },
  {
   "cell_type": "code",
   "execution_count": 31,
   "id": "ea40a166",
   "metadata": {
    "id": "ea40a166",
    "outputId": "91d5642b-1782-4241-f4be-53faedbf3ca4"
   },
   "outputs": [
    {
     "name": "stdout",
     "output_type": "stream",
     "text": [
      "Index(['ADM_RNO1', 'VERDATE', 'REFPER', 'GEOGPRV', 'GEODGHR4', 'DHH_SEX',\n",
      "       'DHHGMS', 'DHHDGHSZ', 'ADM_PRX', 'DHHGAGE', 'DOMAC', 'MAC_010',\n",
      "       'EHG2DVH3', 'DOGEN', 'GEN_005', 'GEN_010', 'GEN_015', 'GEN_020',\n",
      "       'GEN_025', 'GEN_030', 'GENDVHDI', 'GENDVMHI', 'GENDVSWL', 'DOHWT',\n",
      "       'HWT_050', 'HWTDGISW', 'HWTDGWHO', 'HWTDGBCC', 'DOCCC', 'CCC_035',\n",
      "       'CCC_065', 'CCC_070', 'CCC_075', 'CCC_080', 'CCC_095', 'CCC_185',\n",
      "       'CCC_195', 'CCC_200', 'CCCDGRSP', 'CCCDGSKL', 'CCCDGCAR', 'DOHUI',\n",
      "       'HUIDGHSI', 'HUIDGPAD', 'DOCIH', 'CIH_005', 'CIH_010', 'CIH_015',\n",
      "       'CIH_020', 'CIH_025'],\n",
      "      dtype='object')\n"
     ]
    }
   ],
   "source": [
    "df_raw = pd.read_csv(\"pumf_cchs.csv\")\n",
    "\n",
    "print(df_raw.columns[:50])"
   ]
  },
  {
   "cell_type": "markdown",
   "id": "ce4aeba4-e964-4c66-a879-69016e80df75",
   "metadata": {
    "id": "ce4aeba4-e964-4c66-a879-69016e80df75"
   },
   "source": [
    "### Activity Summary by Obesity  \n",
    "\n",
    "Created a function to compute weighted stats (mean, median, SD, IQR, 95% CI) of weekly activity minutes, comparing obese vs. non-obese groups.  "
   ]
  },
  {
   "cell_type": "code",
   "execution_count": 32,
   "id": "654c90a9",
   "metadata": {
    "id": "654c90a9"
   },
   "outputs": [],
   "source": [
    "import numpy as np\n",
    "import pandas as pd\n",
    "\n",
    "def activity_summary_by_obesity(df,\n",
    "                                bmi_col=\"HWTDGISW\",\n",
    "                                pa_col=\"PAADVMVA\",\n",
    "                                weight_col=\"WTS_M\"):\n",
    "    # --- Prepare dataset ---\n",
    "    need_cols = [bmi_col, pa_col] + ([weight_col] if weight_col in df.columns else [])\n",
    "    df = df[need_cols].dropna()\n",
    "    df[\"Obesity\"] = (df[bmi_col] == 2).astype(int)     # 2 = obese per CCHS\n",
    "    df = df[df[pa_col].between(0, 6000)]\n",
    "\n",
    "    # --- Weighted median helper ---\n",
    "    def weighted_median(x, w=None):\n",
    "        x = np.asarray(x, float)\n",
    "        if w is None:\n",
    "            return np.median(x)\n",
    "        w = np.asarray(w, float)\n",
    "        order = np.argsort(x)\n",
    "        xs, ws = x[order], w[order]\n",
    "        cw = np.cumsum(ws) / np.sum(ws)\n",
    "        return np.interp(0.5, cw, xs)\n",
    "\n",
    "    # --- Stats helper (now returns weighted median) ---\n",
    "    def weighted_stats(x, w=None, alpha=0.05):\n",
    "        x = np.asarray(x, float)\n",
    "        w = np.ones(len(x), float) if w is None else np.asarray(w, float)\n",
    "\n",
    "        # weighted mean\n",
    "        mean = np.sum(w * x) / np.sum(w)\n",
    "\n",
    "        # (simple) SD & IQR kept as in your original code\n",
    "        sd = np.std(x, ddof=1)\n",
    "        iqr = np.percentile(x, 75) - np.percentile(x, 25)\n",
    "\n",
    "        # CI for the (weighted) mean (same approach you had)\n",
    "        se = np.sqrt(np.sum(w * (x - mean)**2) / np.sum(w)) / np.sqrt(len(x))\n",
    "        z = 1.95996\n",
    "        lo, hi = mean - z * se, mean + z * se\n",
    "\n",
    "        # NEW: weighted median\n",
    "        median_w = weighted_median(x, w)\n",
    "\n",
    "        return mean, median_w, sd, iqr, lo, hi\n",
    "\n",
    "    # --- Build output DataFrame ---\n",
    "    out = []\n",
    "    for g, sub in df.groupby(\"Obesity\"):\n",
    "        w = sub[weight_col] if weight_col in sub.columns else None\n",
    "        mean, median_w, sd, iqr, lo, hi = weighted_stats(sub[pa_col], w)\n",
    "        out.append({\n",
    "            \"Group\": \"Obese\" if g == 1 else \"Non-obese\",\n",
    "            \"N\": len(sub),\n",
    "            \"Mean min/wk\": round(mean, 2),\n",
    "            \"Median (weighted) min/wk\": round(median_w, 2),   # <- replaced\n",
    "            \"SD\": round(sd, 2),\n",
    "            \"IQR\": round(iqr, 2),\n",
    "            \"95% CI Low\": round(lo, 2),\n",
    "            \"95% CI High\": round(hi, 2),\n",
    "            \"Mean hr/wk\": round(mean / 60, 2),\n",
    "            \"Mean hr/day\": round(mean / 420, 2),\n",
    "        })\n",
    "\n",
    "    return pd.DataFrame(out)\n"
   ]
  },
  {
   "cell_type": "code",
   "execution_count": 33,
   "id": "ef6c5de7",
   "metadata": {
    "id": "ef6c5de7",
    "outputId": "b02dac22-47ff-40da-c06d-91295972d2f1"
   },
   "outputs": [
    {
     "data": {
      "text/html": [
       "<div>\n",
       "<style scoped>\n",
       "    .dataframe tbody tr th:only-of-type {\n",
       "        vertical-align: middle;\n",
       "    }\n",
       "\n",
       "    .dataframe tbody tr th {\n",
       "        vertical-align: top;\n",
       "    }\n",
       "\n",
       "    .dataframe thead th {\n",
       "        text-align: right;\n",
       "    }\n",
       "</style>\n",
       "<table border=\"1\" class=\"dataframe\">\n",
       "  <thead>\n",
       "    <tr style=\"text-align: right;\">\n",
       "      <th></th>\n",
       "      <th>Group</th>\n",
       "      <th>N</th>\n",
       "      <th>Mean min/wk</th>\n",
       "      <th>Median (weighted) min/wk</th>\n",
       "      <th>SD</th>\n",
       "      <th>IQR</th>\n",
       "      <th>95% CI Low</th>\n",
       "      <th>95% CI High</th>\n",
       "      <th>Mean hr/wk</th>\n",
       "      <th>Mean hr/day</th>\n",
       "    </tr>\n",
       "  </thead>\n",
       "  <tbody>\n",
       "    <tr>\n",
       "      <th>0</th>\n",
       "      <td>Non-obese</td>\n",
       "      <td>8510</td>\n",
       "      <td>400.03</td>\n",
       "      <td>210.0</td>\n",
       "      <td>546.31</td>\n",
       "      <td>400.0</td>\n",
       "      <td>387.44</td>\n",
       "      <td>412.62</td>\n",
       "      <td>6.67</td>\n",
       "      <td>0.95</td>\n",
       "    </tr>\n",
       "    <tr>\n",
       "      <th>1</th>\n",
       "      <td>Obese</td>\n",
       "      <td>11854</td>\n",
       "      <td>390.67</td>\n",
       "      <td>200.0</td>\n",
       "      <td>559.17</td>\n",
       "      <td>420.0</td>\n",
       "      <td>380.11</td>\n",
       "      <td>401.24</td>\n",
       "      <td>6.51</td>\n",
       "      <td>0.93</td>\n",
       "    </tr>\n",
       "  </tbody>\n",
       "</table>\n",
       "</div>"
      ],
      "text/plain": [
       "       Group      N  Mean min/wk  Median (weighted) min/wk      SD    IQR  \\\n",
       "0  Non-obese   8510       400.03                     210.0  546.31  400.0   \n",
       "1      Obese  11854       390.67                     200.0  559.17  420.0   \n",
       "\n",
       "   95% CI Low  95% CI High  Mean hr/wk  Mean hr/day  \n",
       "0      387.44       412.62        6.67         0.95  \n",
       "1      380.11       401.24        6.51         0.93  "
      ]
     },
     "execution_count": 33,
     "metadata": {},
     "output_type": "execute_result"
    }
   ],
   "source": [
    "df_summary = activity_summary_by_obesity(df_raw)\n",
    "df_summary"
   ]
  },
  {
   "cell_type": "markdown",
   "id": "f3c11e17",
   "metadata": {
    "id": "f3c11e17"
   },
   "source": [
    "### Physical Activity by Obesity Status  \n",
    "\n",
    "Plotted mean weekly activity minutes for obese vs. non-obese groups with 95% confidence intervals as error bars.  "
   ]
  },
  {
   "cell_type": "code",
   "execution_count": 34,
   "id": "b4d8f959",
   "metadata": {
    "id": "b4d8f959",
    "outputId": "9b3df768-9d66-4573-dcf3-dff6208998a7"
   },
   "outputs": [
    {
     "data": {
      "image/png": "[encoded data removed]",
      "text/plain": [
       "<Figure size 850x600 with 1 Axes>"
      ]
     },
     "metadata": {},
     "output_type": "display_data"
    },
    {
     "name": "stdout",
     "output_type": "stream",
     "text": [
      "Saved to: /Users/carlosdavid/Desktop/carpeta sin título/figures/slide1_activity_bar_noWHO.png\n"
     ]
    }
   ],
   "source": [
    "import matplotlib.pyplot as plt\n",
    "import pandas as pd\n",
    "from pathlib import Path\n",
    "\n",
    "data = [\n",
    "    {\"Group\": \"Non-obese\", \"Mean\": 400.03, \"CI_low\": 387.44, \"CI_high\": 412.62},\n",
    "    {\"Group\": \"Obese\",     \"Mean\": 390.67, \"CI_low\": 380.11, \"CI_high\": 401.24},\n",
    "]\n",
    "df = pd.DataFrame(data)\n",
    "df[\"yerr\"] = df[\"Mean\"] - df[\"CI_low\"]  # (IC 95%)\n",
    "\n",
    "# --- Plot ---\n",
    "fig, ax = plt.subplots(figsize=(8.5, 6))\n",
    "\n",
    "# Colors and bars\n",
    "colors = [\"#1f77b4\", \"#ff7f0e\"]\n",
    "bars = ax.bar(\n",
    "    df[\"Group\"], df[\"Mean\"],\n",
    "    yerr=df[\"yerr\"], capsize=10,\n",
    "    linewidth=1.2, edgecolor=\"black\",\n",
    "    color=colors\n",
    ")\n",
    "\n",
    "# Titles and labels\n",
    "plt.suptitle(\"Weekly Physical Activity by Obesity Status\", fontsize=16, fontweight=\"bold\", y=0.98)\n",
    "ax.set_title(\"Mean minutes per week ± 95% Confidence Interval\", fontsize=12, pad=8)\n",
    "ax.set_ylabel(\"Minutes per week\", fontsize=12, fontweight=\"bold\")\n",
    "ax.set_ylim(0, max(df[\"CI_high\"].max() + 60, 520))\n",
    "ax.grid(axis=\"y\", alpha=0.3)\n",
    "\n",
    "# Value labels\n",
    "for bar, (_, row) in zip(bars, df.iterrows()):\n",
    "    h = bar.get_height()\n",
    "    ax.text(bar.get_x() + bar.get_width()/2, h + 14,\n",
    "            f\"{row['Mean']:.1f} min/wk\",\n",
    "            ha=\"center\", va=\"bottom\", fontsize=11, fontweight=\"bold\")\n",
    "    ax.text(bar.get_x() + bar.get_width()/2, h - 42,\n",
    "            f\"95% CI: {row['CI_low']:.2f} – {row['CI_high']:.2f}\",\n",
    "            ha=\"center\", va=\"top\", fontsize=9, color=\"black\")\n",
    "\n",
    "plt.tight_layout(rect=[0, 0, 1, 0.94])\n",
    "\n",
    "# Save the figure\n",
    "out_dir = Path(\"figures\")\n",
    "out_dir.mkdir(parents=True, exist_ok=True)\n",
    "out_path = out_dir / \"slide1_activity_bar_noWHO.png\"\n",
    "plt.savefig(out_path, dpi=300, bbox_inches=\"tight\")\n",
    "plt.show()\n",
    "\n",
    "print(f\"Saved to: {out_path.resolve()}\")"
   ]
  },
  {
   "cell_type": "markdown",
   "metadata": {},
   "source": [
    "# Hypothesis 4 \n",
    "\n",
    "There is a significant relationship between higher alcohol consumption and obesity classification among Canadian adults. Higher alcohol consumption is associated with an increased risk of obesity, possibly due to its negative effects on metabolism and overall health.\n"
   ]
  },
  {
   "cell_type": "markdown",
   "metadata": {},
   "source": [
    "### Preparing BMI and Alcohol Variables\n",
    "\n",
    "This step prepares the BMI classification (`HWTDGISW`) and alcohol consumption (`ALWDVWKY`) variables for analysis by selecting, cleaning, and structuring them properly before descriptive or inferential tests.\n"
   ]
  },
  {
   "cell_type": "code",
   "execution_count": 35,
   "id": "9331f4b8",
   "metadata": {},
   "outputs": [],
   "source": [
    "# ============================================================\n",
    "# Step 1 — Imports & display config\n",
    "# Uses only HWTDGISW for BMI and ALWDVWKY for alcohol categories\n",
    "# Output: no printed output (environment setup)\n",
    "# ============================================================\n",
    "import numpy as np\n",
    "import pandas as pd\n",
    "import matplotlib.pyplot as plt\n",
    "from scipy.stats import chi2_contingency\n"
   ]
  },
  {
   "cell_type": "markdown",
   "metadata": {},
   "source": [
    "### Exploring BMI Distribution by Alcohol Intake\n",
    "\n",
    "This step summarizes how BMI categories are distributed across alcohol groups using cross-tabulations and descriptive tables, giving an initial view of patterns in the data.\n"
   ]
  },
  {
   "cell_type": "code",
   "execution_count": 38,
   "id": "f67623ce",
   "metadata": {},
   "outputs": [
    {
     "name": "stdout",
     "output_type": "stream",
     "text": [
      "   HWTDGISW  ALWDVWKY\n",
      "0       1.0     996.0\n",
      "1       2.0     996.0\n",
      "2       2.0     996.0\n",
      "Shape: (108252, 2)\n"
     ]
    }
   ],
   "source": [
    "# ============================================================\n",
    "# Step 2 — Load data with ONLY needed columns\n",
    "# Output: preview and shape\n",
    "# >>> Update DATA_PATH as needed <<<\n",
    "# ============================================================\n",
    "DATA_PATH = \"pumf_cchs.csv\"  # e.g., r\"C:\\path\\to\\pumf_cchs.csv\"\n",
    "\n",
    "df = pd.read_csv(DATA_PATH, usecols=[\"HWTDGISW\", \"ALWDVWKY\"], low_memory=False)\n",
    "print(df.head(3))\n",
    "print(\"Shape:\", df.shape)"
   ]
  },
  {
   "cell_type": "markdown",
   "metadata": {},
   "source": [
    "### Visualizing the Relationship\n",
    "\n",
    "A bar or stacked chart is generated to compare normal/underweight versus overweight/obese proportions across alcohol groups, making differences easier to interpret visually.\n"
   ]
  },
  {
   "cell_type": "code",
   "execution_count": null,
   "id": "e4f47fa4",
   "metadata": {},
   "outputs": [
    {
     "name": "stdout",
     "output_type": "stream",
     "text": [
      "BMI_LAB\n",
      "Overweight/Obese      56516\n",
      "Normal/Underweight    37555\n",
      "Name: count, dtype: int64\n"
     ]
    }
   ],
   "source": [
    "# ============================================================\n",
    "# Step 3 — Keep valid BMI codes and label BMI\n",
    "# HWTDGISW: 1 = Normal/Underweight, 2 = Overweight/Obese\n",
    "# Output: counts by BMI label\n",
    "# ============================================================\n",
    "df = df[df[\"HWTDGISW\"].isin([1, 2])].copy()\n",
    "df[\"BMI_LAB\"] = df[\"HWTDGISW\"].map({1: \"Normal/Underweight\", 2: \"Overweight/Obese\"})\n",
    "print(df[\"BMI_LAB\"].value_counts(dropna=False))"
   ]
  },
  {
   "cell_type": "markdown",
   "metadata": {},
   "source": [
    "### Testing the Association (Chi-square)\n",
    "\n",
    "A chi-square test of independence compares observed and expected frequencies to test whether BMI classification is associated with alcohol consumption level.\n"
   ]
  },
  {
   "cell_type": "code",
   "execution_count": null,
   "id": "84907197",
   "metadata": {},
   "outputs": [
    {
     "name": "stdout",
     "output_type": "stream",
     "text": [
      "ALC_CAT\n",
      "NaN                60288\n",
      "Low (1–7)          15270\n",
      "None               12559\n",
      "Moderate (8–14)     3685\n",
      "High (15+)          2269\n",
      "Name: count, dtype: int64\n"
     ]
    }
   ],
   "source": [
    "# ============================================================\n",
    "# Step 4 — Create Alcohol Consumption Categories from ALWDVWKY\n",
    "# Categories: None (0), Low (1–7), Moderate (8–14), High (15+)\n",
    "# Output: quick sanity cross-counts\n",
    "# ============================================================\n",
    "df[\"ALWDVWKY\"] = pd.to_numeric(df[\"ALWDVWKY\"], errors=\"coerce\")\n",
    "\n",
    "# Replace special codes (996–999) with NaN\n",
    "df.loc[df[\"ALWDVWKY\"].between(996, 999), \"ALWDVWKY\"] = np.nan\n",
    "\n",
    "# Categorize\n",
    "def alc_cat(x):\n",
    "    if pd.isna(x):\n",
    "        return np.nan\n",
    "    if x == 0:\n",
    "        return \"None\"\n",
    "    elif 1 <= x <= 7:\n",
    "        return \"Low (1–7)\"\n",
    "    elif 8 <= x <= 14:\n",
    "        return \"Moderate (8–14)\"\n",
    "    else:\n",
    "        return \"High (15+)\"\n",
    "\n",
    "df[\"ALC_CAT\"] = df[\"ALWDVWKY\"].apply(alc_cat)\n",
    "\n",
    "print(df[\"ALC_CAT\"].value_counts(dropna=False))"
   ]
  },
  {
   "cell_type": "markdown",
   "metadata": {},
   "source": [
    "### Validating the Chi-square Assumptions\n",
    "\n",
    "We verify that chi-square assumptions are satisfied: categorical variables, independent observations, and expected cell counts ≥ 5, ensuring valid inference.\n"
   ]
  },
  {
   "cell_type": "code",
   "execution_count": null,
   "id": "5463bd85",
   "metadata": {},
   "outputs": [
    {
     "name": "stdout",
     "output_type": "stream",
     "text": [
      "Counts of BMI categories by Alcohol Consumption Level\n"
     ]
    },
    {
     "data": {
      "text/html": [
       "<div>\n",
       "<style scoped>\n",
       "    .dataframe tbody tr th:only-of-type {\n",
       "        vertical-align: middle;\n",
       "    }\n",
       "\n",
       "    .dataframe tbody tr th {\n",
       "        vertical-align: top;\n",
       "    }\n",
       "\n",
       "    .dataframe thead th {\n",
       "        text-align: right;\n",
       "    }\n",
       "</style>\n",
       "<table border=\"1\" class=\"dataframe\">\n",
       "  <thead>\n",
       "    <tr style=\"text-align: right;\">\n",
       "      <th>BMI_LAB</th>\n",
       "      <th>Normal/Underweight</th>\n",
       "      <th>Overweight/Obese</th>\n",
       "    </tr>\n",
       "    <tr>\n",
       "      <th>ALC_CAT</th>\n",
       "      <th></th>\n",
       "      <th></th>\n",
       "    </tr>\n",
       "  </thead>\n",
       "  <tbody>\n",
       "    <tr>\n",
       "      <th>High (15+)</th>\n",
       "      <td>859</td>\n",
       "      <td>1410</td>\n",
       "    </tr>\n",
       "    <tr>\n",
       "      <th>Low (1–7)</th>\n",
       "      <td>6679</td>\n",
       "      <td>8591</td>\n",
       "    </tr>\n",
       "    <tr>\n",
       "      <th>Moderate (8–14)</th>\n",
       "      <td>1551</td>\n",
       "      <td>2134</td>\n",
       "    </tr>\n",
       "    <tr>\n",
       "      <th>None</th>\n",
       "      <td>5004</td>\n",
       "      <td>7555</td>\n",
       "    </tr>\n",
       "  </tbody>\n",
       "</table>\n",
       "</div>"
      ],
      "text/plain": [
       "BMI_LAB          Normal/Underweight  Overweight/Obese\n",
       "ALC_CAT                                              \n",
       "High (15+)                      859              1410\n",
       "Low (1–7)                      6679              8591\n",
       "Moderate (8–14)                1551              2134\n",
       "None                           5004              7555"
      ]
     },
     "metadata": {},
     "output_type": "display_data"
    },
    {
     "name": "stdout",
     "output_type": "stream",
     "text": [
      "\n",
      "Row Proportions of BMI categories within Alcohol Consumption Level\n"
     ]
    },
    {
     "data": {
      "text/html": [
       "<div>\n",
       "<style scoped>\n",
       "    .dataframe tbody tr th:only-of-type {\n",
       "        vertical-align: middle;\n",
       "    }\n",
       "\n",
       "    .dataframe tbody tr th {\n",
       "        vertical-align: top;\n",
       "    }\n",
       "\n",
       "    .dataframe thead th {\n",
       "        text-align: right;\n",
       "    }\n",
       "</style>\n",
       "<table border=\"1\" class=\"dataframe\">\n",
       "  <thead>\n",
       "    <tr style=\"text-align: right;\">\n",
       "      <th>BMI_LAB</th>\n",
       "      <th>Normal/Underweight</th>\n",
       "      <th>Overweight/Obese</th>\n",
       "    </tr>\n",
       "    <tr>\n",
       "      <th>ALC_CAT</th>\n",
       "      <th></th>\n",
       "      <th></th>\n",
       "    </tr>\n",
       "  </thead>\n",
       "  <tbody>\n",
       "    <tr>\n",
       "      <th>High (15+)</th>\n",
       "      <td>0.379</td>\n",
       "      <td>0.621</td>\n",
       "    </tr>\n",
       "    <tr>\n",
       "      <th>Low (1–7)</th>\n",
       "      <td>0.437</td>\n",
       "      <td>0.563</td>\n",
       "    </tr>\n",
       "    <tr>\n",
       "      <th>Moderate (8–14)</th>\n",
       "      <td>0.421</td>\n",
       "      <td>0.579</td>\n",
       "    </tr>\n",
       "    <tr>\n",
       "      <th>None</th>\n",
       "      <td>0.398</td>\n",
       "      <td>0.602</td>\n",
       "    </tr>\n",
       "  </tbody>\n",
       "</table>\n",
       "</div>"
      ],
      "text/plain": [
       "BMI_LAB          Normal/Underweight  Overweight/Obese\n",
       "ALC_CAT                                              \n",
       "High (15+)                    0.379             0.621\n",
       "Low (1–7)                     0.437             0.563\n",
       "Moderate (8–14)               0.421             0.579\n",
       "None                          0.398             0.602"
      ]
     },
     "metadata": {},
     "output_type": "display_data"
    }
   ],
   "source": [
    "# ============================================================\n",
    "# Step 5 — (counts) and (row proportions)\n",
    "# Output: printed tables; also stores table1_props for plotting\n",
    "# ============================================================\n",
    "tab = pd.crosstab(df[\"ALC_CAT\"], df[\"BMI_LAB\"])\n",
    "prop_row = tab.div(tab.sum(axis=1), axis=0).round(3)\n",
    "\n",
    "print(\"Counts of BMI categories by Alcohol Consumption Level\")\n",
    "display(tab)\n",
    "\n",
    "print(\"\\nRow Proportions of BMI categories within Alcohol Consumption Level\")\n",
    "display(prop_row)\n",
    "\n",
    "table1_props = prop_row.copy()"
   ]
  },
  {
   "cell_type": "markdown",
   "metadata": {},
   "source": [
    "### Identifying Contributing Groups (Standardized Residuals)\n",
    "\n",
    "Standardized residuals identify which alcohol consumption groups deviate most from expectation—positive residuals indicate more cases than expected, negative residuals indicate fewer.\n"
   ]
  },
  {
   "cell_type": "code",
   "execution_count": null,
   "id": "0adc8da4",
   "metadata": {},
   "outputs": [
    {
     "name": "stdout",
     "output_type": "stream",
     "text": [
      "Prevalence of Overweight/Obese by Alcohol Level (95% CI)\n"
     ]
    },
    {
     "data": {
      "text/html": [
       "<div>\n",
       "<style scoped>\n",
       "    .dataframe tbody tr th:only-of-type {\n",
       "        vertical-align: middle;\n",
       "    }\n",
       "\n",
       "    .dataframe tbody tr th {\n",
       "        vertical-align: top;\n",
       "    }\n",
       "\n",
       "    .dataframe thead th {\n",
       "        text-align: right;\n",
       "    }\n",
       "</style>\n",
       "<table border=\"1\" class=\"dataframe\">\n",
       "  <thead>\n",
       "    <tr style=\"text-align: right;\">\n",
       "      <th></th>\n",
       "      <th>ALC_CAT</th>\n",
       "      <th>N</th>\n",
       "      <th>Overweight/Obese (%)</th>\n",
       "      <th>95% CI lower (%)</th>\n",
       "      <th>95% CI upper (%)</th>\n",
       "    </tr>\n",
       "  </thead>\n",
       "  <tbody>\n",
       "    <tr>\n",
       "      <th>0</th>\n",
       "      <td>High (15+)</td>\n",
       "      <td>2269</td>\n",
       "      <td>62.1</td>\n",
       "      <td>60.1</td>\n",
       "      <td>64.1</td>\n",
       "    </tr>\n",
       "    <tr>\n",
       "      <th>1</th>\n",
       "      <td>Low (1–7)</td>\n",
       "      <td>15270</td>\n",
       "      <td>56.3</td>\n",
       "      <td>55.5</td>\n",
       "      <td>57.0</td>\n",
       "    </tr>\n",
       "    <tr>\n",
       "      <th>2</th>\n",
       "      <td>Moderate (8–14)</td>\n",
       "      <td>3685</td>\n",
       "      <td>57.9</td>\n",
       "      <td>56.3</td>\n",
       "      <td>59.5</td>\n",
       "    </tr>\n",
       "    <tr>\n",
       "      <th>3</th>\n",
       "      <td>None</td>\n",
       "      <td>12559</td>\n",
       "      <td>60.2</td>\n",
       "      <td>59.3</td>\n",
       "      <td>61.0</td>\n",
       "    </tr>\n",
       "  </tbody>\n",
       "</table>\n",
       "</div>"
      ],
      "text/plain": [
       "           ALC_CAT      N  Overweight/Obese (%)  95% CI lower (%)  \\\n",
       "0       High (15+)   2269                  62.1              60.1   \n",
       "1        Low (1–7)  15270                  56.3              55.5   \n",
       "2  Moderate (8–14)   3685                  57.9              56.3   \n",
       "3             None  12559                  60.2              59.3   \n",
       "\n",
       "   95% CI upper (%)  \n",
       "0              64.1  \n",
       "1              57.0  \n",
       "2              59.5  \n",
       "3              61.0  "
      ]
     },
     "metadata": {},
     "output_type": "display_data"
    }
   ],
   "source": [
    "# ============================================================\n",
    "# Step 6 — Prevalence of Overweight/Obese by alcohol level (95% CI)\n",
    "# Output: prevalence table prev_df\n",
    "# ============================================================\n",
    "from math import sqrt\n",
    "\n",
    "def wilson_ci(k, n, z=1.96):\n",
    "    if n == 0:\n",
    "        return (np.nan, np.nan)\n",
    "    p = k/n\n",
    "    denom = 1 + z**2/n\n",
    "    center = (p + z**2/(2*n)) / denom\n",
    "    half = (z*sqrt((p*(1-p)/n) + (z**2/(4*n**2)))) / denom\n",
    "    return center - half, center + half\n",
    "\n",
    "rows = []\n",
    "for g, sub in df.groupby(\"ALC_CAT\"):\n",
    "    n = len(sub)\n",
    "    k = (sub[\"BMI_LAB\"] == \"Overweight/Obese\").sum()\n",
    "    p = k/n if n>0 else np.nan\n",
    "    lo, hi = wilson_ci(k, n)\n",
    "    rows.append({\n",
    "        \"ALC_CAT\": g,\n",
    "        \"N\": n,\n",
    "        \"Overweight/Obese (%)\": round(p*100, 1),\n",
    "        \"95% CI lower (%)\": round(lo*100, 1),\n",
    "        \"95% CI upper (%)\": round(hi*100, 1)\n",
    "    })\n",
    "\n",
    "prev_df = pd.DataFrame(rows).sort_values(\"ALC_CAT\").reset_index(drop=True)\n",
    "print(\"Prevalence of Overweight/Obese by Alcohol Level (95% CI)\")\n",
    "display(prev_df)"
   ]
  },
  {
   "cell_type": "markdown",
   "metadata": {},
   "source": [
    "### Using BMI as a Continuous Measure\n",
    "\n",
    "BMI is also analyzed as a continuous variable (means, medians, and prevalence with 95% CIs) to provide a more detailed perspective alongside categorical results.\n"
   ]
  },
  {
   "cell_type": "code",
   "execution_count": null,
   "id": "85c6abc1",
   "metadata": {},
   "outputs": [
    {
     "data": {
      "image/png": "[encoded data removed]",
      "text/plain": [
       "<Figure size 800x500 with 1 Axes>"
      ]
     },
     "metadata": {},
     "output_type": "display_data"
    }
   ],
   "source": [
    "# ============================================================\n",
    "# Step 7 — Stacked bars (% within alcohol level)\n",
    "# Output: chart (matplotlib only; one chart per cell; no manual colors)\n",
    "# ============================================================\n",
    "ax = (table1_props * 100).plot(kind=\"bar\", stacked=True, figsize=(8,5))\n",
    "ax.set_title(\"Distribution of BMI categories by Alcohol Consumption Level\")\n",
    "ax.set_ylabel(\"Percent within Alcohol Level\")\n",
    "ax.set_xlabel(\"Alcohol Consumption Level\")\n",
    "ax.legend(title=\"BMI Category\", bbox_to_anchor=(1.04, 1), loc=\"upper left\")\n",
    "plt.tight_layout()\n",
    "plt.show()"
   ]
  },
  {
   "cell_type": "markdown",
   "metadata": {},
   "source": [
    "### Additional Visualization\n",
    "\n",
    "This step generates supplementary plots to clarify trends and differences relevant to Hypothesis 4.\n"
   ]
  },
  {
   "cell_type": "code",
   "execution_count": null,
   "id": "41594098",
   "metadata": {},
   "outputs": [
    {
     "data": {
      "image/png": "[encoded data removed]",
      "text/plain": [
       "<Figure size 800x500 with 1 Axes>"
      ]
     },
     "metadata": {},
     "output_type": "display_data"
    }
   ],
   "source": [
    "# ============================================================\n",
    "# Step 8 (Updated) — Bar Chart of Prevalence with 95% CI\n",
    "# Output: bar chart with error bars\n",
    "# ============================================================\n",
    "plt.figure(figsize=(8,5))\n",
    "\n",
    "x = np.arange(prev_df.shape[0])\n",
    "y = prev_df[\"Overweight/Obese (%)\"].values\n",
    "yerr_lower = y - prev_df[\"95% CI lower (%)\"].values\n",
    "yerr_upper = prev_df[\"95% CI upper (%)\"].values - y\n",
    "\n",
    "# plot as bar chart\n",
    "bars = plt.bar(x, y, yerr=[yerr_lower, yerr_upper], capsize=5)\n",
    "\n",
    "plt.xticks(x, prev_df[\"ALC_CAT\"])\n",
    "plt.title(\"Prevalence of Overweight/Obese by Alcohol Level (95% CI)\")\n",
    "plt.ylabel(\"Prevalence (%)\")\n",
    "plt.xlabel(\"Alcohol Consumption Level\")\n",
    "plt.tight_layout()\n",
    "plt.show()"
   ]
  },
  {
   "cell_type": "markdown",
   "metadata": {},
   "source": [
    "### Additional Statistical Checks\n",
    "\n",
    "This step adds complementary statistical checks to validate or extend the primary chi-square findings.\n"
   ]
  },
  {
   "cell_type": "code",
   "execution_count": null,
   "id": "afe59277",
   "metadata": {},
   "outputs": [
    {
     "name": "stdout",
     "output_type": "stream",
     "text": [
      "Chi-square test of independence (Alcohol × BMI)\n",
      "Chi-square statistic = 57.92\n",
      "Degrees of freedom   = 3\n",
      "Sample size (N)      = 33783\n",
      "p-value              = 1.639e-12\n",
      "Cramer's V           = 0.041\n"
     ]
    }
   ],
   "source": [
    "# ============================================================\n",
    "# Step 9 — Chi-square test (χ², df, p) + Cramer's V\n",
    "# Output: prints χ², df, N, p-value, Cramer's V\n",
    "# ============================================================\n",
    "chi_tab = pd.crosstab(df[\"ALC_CAT\"], df[\"BMI_LAB\"])\n",
    "chi2, p, dof, expected = chi2_contingency(chi_tab.values)\n",
    "N = chi_tab.values.sum()\n",
    "\n",
    "min_dim = min(chi_tab.shape) - 1\n",
    "cramers_v = np.sqrt(chi2 / (N * min_dim)) if min_dim > 0 else np.nan\n",
    "\n",
    "print(\"Chi-square test of independence (Alcohol × BMI)\")\n",
    "print(f\"Chi-square statistic = {chi2:.2f}\")\n",
    "print(f\"Degrees of freedom   = {dof}\")\n",
    "print(f\"Sample size (N)      = {N}\")\n",
    "print(f\"p-value              = {p:.4g}\")\n",
    "print(f\"Cramer's V           = {cramers_v:.3f}\")"
   ]
  },
  {
   "cell_type": "markdown",
   "id": "84baa770",
   "metadata": {},
   "source": [
    "# Hypothesis **5**\n",
    "\n",
    "Canadian adults with high levels of stress are more likely to experience obesity, possibly because stress can disrupt hormone regulation which may contribute to weight gain."
   ]
  },
  {
   "cell_type": "markdown",
   "id": "e22dfced",
   "metadata": {
    "id": "e22dfced"
   },
   "source": [
    "### Hypothesis 5: Stress Levels and Obesity\n",
    "\n",
    "This section investigates the relationship between stress levels and the likelihood of obesity among Canadian adults. The hypothesis is that higher stress levels are associated with an increased probability of being overweight or obese."
   ]
  },
  {
   "cell_type": "markdown",
   "id": "ac9e459c",
   "metadata": {
    "id": "ac9e459c"
   },
   "source": [
    "### Data Loading and Initial Filtering\n",
    "\n",
    "We load the dataset and perform initial filtering to exclude categories like 'Dont know', 'Refusal', and 'Valid Skip' from the stress level variable (`GEN_020`) and 'Not stated', 'Valid skip' from the BMI category variable (`HWTDGBCC`). This ensures that our analysis focuses on valid responses for both variables."
   ]
  },
  {
   "cell_type": "markdown",
   "id": "12002cbc",
   "metadata": {
    "id": "12002cbc"
   },
   "source": [
    "### Filtered Contingency Table\n",
    "\n",
    "A contingency table is created using the filtered data to show the counts of each combination of stress level and BMI category. This table is the basis for further statistical analysis.\n",
    "\n",
    "**Filtered Contingency Table:**\n",
    "| GEN_020               | Overweight / Obese - Class I, II, III   | Underweight / Normal weight   |\n",
    "|:----------------------|:----------------------------------------|:------------------------------|\n",
    "| A bit stressful       | 1345                                    | 679                           |\n",
    "| Extremely stressful   | 125                                     | 47                            |\n",
    "| Not at all stressful  | 639                                     | 269                           |\n",
    "| Not very stressful    | 982                                     | 447                           |\n",
    "| Quite a bit stressful | 575                                     | 250                           |"
   ]
  },
  {
   "cell_type": "code",
   "execution_count": null,
   "id": "Yb_qREgfEQdd",
   "metadata": {
    "colab": {
     "base_uri": "https://localhost:8080/"
    },
    "id": "Yb_qREgfEQdd",
    "outputId": "40d050d3-db13-4fc4-d16c-f8667c687861"
   },
   "outputs": [
    {
     "name": "stdout",
     "output_type": "stream",
     "text": [
      "Filtered Contingency Table:\n",
      "| GEN_020               | Overweight / Obese - Class I, II, III   | Underweight / Normal weight   |\n",
      "|:----------------------|:----------------------------------------|:------------------------------|\n",
      "| A bit stressful       | 1345                                    | 679                           |\n",
      "| Extremely stressful   | 125                                     | 47                            |\n",
      "| Not at all stressful  | 639                                     | 269                           |\n",
      "| Not very stressful    | 982                                     | 447                           |\n",
      "| Quite a bit stressful | 575                                     | 250                           |\n"
     ]
    }
   ],
   "source": [
    "import pandas as pd\n",
    "\n",
    "# Load the dataframe with a different encoding, such as 'latin-1'\n",
    "try:\n",
    "    df = pd.read_csv('/content/Hypotheses 5 Categorical values final.csv', encoding='latin-1')\n",
    "except UnicodeDecodeError:\n",
    "    # If 'latin-1' fails, try another common encoding like 'cp1252'\n",
    "    try:\n",
    "        df = pd.read_csv('/content/Hypotheses 5 Categorical values final.csv', encoding='cp1252')\n",
    "    except Exception as e:\n",
    "        print(f\"Could not decode the file with common encodings: {e}\")\n",
    "        # Optionally, you might want to investigate the file encoding further\n",
    "        # or inform the user that the file encoding is problematic.\n",
    "        exit() # Exit or handle the error appropriately if decoding fails\n",
    "\n",
    "import pandas as pd\n",
    "\n",
    "# Load the dataframe.\n",
    "df = pd.read_csv('/content/Hypotheses 5 Categorical values final.csv')\n",
    "\n",
    "# Define the categories to exclude\n",
    "exclude_gen_020 = ['Dont know', 'Refusal', 'Valid Skip']\n",
    "exclude_hwt_gbcc = ['Not stated', 'Valid skip']\n",
    "\n",
    "# Filter the dataframe to exclude unwanted categories from both columns\n",
    "df_filtered = df[~df['GEN_020'].isin(exclude_gen_020)]\n",
    "df_filtered = df_filtered[~df_filtered['HWTDGBCC'].isin(exclude_hwt_gbcc)]\n",
    "\n",
    "# Create a new contingency table with the filtered data\n",
    "contingency_table_filtered = pd.crosstab(df_filtered['GEN_020'], df_filtered['HWTDGBCC'])\n",
    "\n",
    "# Display the new contingency table.\n",
    "print(\"Filtered Contingency Table:\")\n",
    "print(contingency_table_filtered.to_markdown(numalign=\"left\", stralign=\"left\"))\n",
    "\n",
    "# Save the new table to a CSV file\n",
    "contingency_table_filtered.to_csv('contingency_table_filtered.csv')"
   ]
  },
  {
   "cell_type": "markdown",
   "id": "703ecbd4",
   "metadata": {
    "id": "703ecbd4"
   },
   "source": [
    "### Odds Ratio Calculation (Extremely Stressful vs. Not at All Stressful)\n",
    "\n",
    "To quantify the association between stress and obesity, we calculate the odds ratio comparing the 'Extremely stressful' group to the 'Not at all stressful' group. An odds ratio greater than 1 suggests higher odds of the outcome (obesity) in the exposed group (extremely stressful).\n",
    "\n",
    "**Results:**\n",
    "Odds Ratio: 1.12\n",
    "Odds Ratio (via statsmodels): 1.12\n",
    "\n",
    "The odds ratio of 1.12 suggests that individuals reporting 'Extremely stressful' lives have slightly higher odds of being overweight or obese compared to those reporting 'Not at all stressful' lives. However, the magnitude of this effect is small."
   ]
  },
  {
   "cell_type": "code",
   "execution_count": null,
   "id": "CHhLXDUHL0mT",
   "metadata": {
    "colab": {
     "base_uri": "https://localhost:8080/"
    },
    "id": "CHhLXDUHL0mT",
    "outputId": "67631762-d9ab-4f7e-c42c-d93ba9bbb5ff"
   },
   "outputs": [
    {
     "name": "stdout",
     "output_type": "stream",
     "text": [
      "Odds Ratio: 1.12\n",
      "Odds Ratio (via statsmodels): 1.12\n"
     ]
    }
   ],
   "source": [
    "import pandas as pd\n",
    "import numpy as np\n",
    "from statsmodels.stats.contingency_tables import Table2x2\n",
    "\n",
    "# Load the filtered contingency table\n",
    "contingency_table_filtered = pd.read_csv('contingency_table_filtered.csv', index_col='GEN_020')\n",
    "\n",
    "# Select two rows for comparison to create a 2x2 table\n",
    "# Comparing 'Extremely stressful' vs. 'Not at all stressful'\n",
    "# Using the correct index labels from the contingency table\n",
    "df_odds = contingency_table_filtered.loc[['Extremely stressful', 'Not at all stressful']].copy()\n",
    "\n",
    "# Select only the relevant BMI outcome columns for the odds ratio calculation\n",
    "# Assuming 'Overweight / Obese - Class I, II, III' and 'Underweight / Normal weight' are the relevant outcome categories\n",
    "if 'Overweight / Obese - Class I, II, III' in df_odds.columns and 'Underweight / Normal weight' in df_odds.columns:\n",
    "    df_odds = df_odds[['Overweight / Obese - Class I, II, III', 'Underweight / Normal weight']]\n",
    "\n",
    "    # Extract values for the odds ratio formula\n",
    "    # Assuming the order of columns is Overweight/Obese then Normal/Underweight\n",
    "    # Based on the common presentation for odds ratio (Outcome 1 vs Outcome 2)\n",
    "    A = df_odds.loc['Extremely stressful', 'Overweight / Obese - Class I, II, III']  # Exposed, Outcome 1 (Obese)\n",
    "    B = df_odds.loc['Extremely stressful', 'Underweight / Normal weight']     # Exposed, Outcome 2 (Non-obese)\n",
    "    C = df_odds.loc['Not at all stressful', 'Overweight / Obese - Class I, II, III'] # Not Exposed, Outcome 1 (Obese)\n",
    "    D = df_odds.loc['Not at all stressful', 'Underweight / Normal weight']    # Not Exposed, Outcome 2 (Non-obese)\n",
    "\n",
    "\n",
    "    # Calculate the odds ratio\n",
    "    # Add a small epsilon to avoid division by zero in case of zero counts in B or C\n",
    "    epsilon = 1e-9\n",
    "    if (B + epsilon) * (C + epsilon) == 0:\n",
    "         odds_ratio = np.nan\n",
    "         print(\"Cannot calculate odds ratio due to zero counts in denominator.\")\n",
    "    else:\n",
    "        odds_ratio = (A * D) / ((B + epsilon) * (C + epsilon)) # Added epsilon for robust calculation\n",
    "\n",
    "    print(f\"Odds Ratio: {odds_ratio:.2f}\")\n",
    "\n",
    "    # You can also use a library for a professional calculation\n",
    "    # Ensure the table for statsmodels is in the correct format: [[a, b], [c, d]]\n",
    "    # where a = exposed, outcome 1; b = exposed, outcome 2; c = unexposed, outcome 1; d = unexposed, outcome 2\n",
    "    table = np.array([[A, B], [C, D]])\n",
    "    try:\n",
    "        odds_ratio_statsmodels = Table2x2(table).oddsratio\n",
    "        print(f\"Odds Ratio (via statsmodels): {odds_ratio_statsmodels:.2f}\")\n",
    "        # Optionally, calculate confidence intervals for the odds ratio using statsmodels\n",
    "        # odds_ci = Table2x2(table).oddsratio_ci(alpha=0.05)\n",
    "        # print(f\"95% CI for Odds Ratio: ({odds_ci[0]:.2f}, {odds_ci[1]:.2f})\")\n",
    "    except Exception as e:\n",
    "        print(f\"Error calculating odds ratio via statsmodels: {e}\")\n",
    "\n",
    "else:\n",
    "    print(\"Error: Required BMI outcome columns not found in the filtered contingency table.\")\n",
    "    print(\"Available columns:\", df_odds.columns.tolist())"
   ]
  },
  {
   "cell_type": "markdown",
   "id": "HVHP6nBOPSuM",
   "metadata": {
    "id": "HVHP6nBOPSuM"
   },
   "source": []
  },
  {
   "cell_type": "markdown",
   "id": "769d4350",
   "metadata": {
    "id": "769d4350"
   },
   "source": [
    "### Chi-Square Test of Independence\n",
    "\n",
    "A chi-square test of independence is performed on the filtered contingency table to determine if there is a statistically significant association between stress levels and BMI categories.\n",
    "\n",
    "**Results:**\n",
    "Chi-square statistic: 7.35\n",
    "Degrees of freedom: 4\n",
    "P-value: 0.12\n",
    "\n",
    "The chi-square statistic is 7.35 with 4 degrees of freedom. The p-value is 0.12, which is greater than the conventional significance level of 0.05. This indicates that there is no statistically significant evidence to conclude a dependency between stress levels (as categorized in this dataset) and BMI categories based on this test."
   ]
  },
  {
   "cell_type": "code",
   "execution_count": null,
   "id": "oMaL_kk0Ojns",
   "metadata": {
    "colab": {
     "base_uri": "https://localhost:8080/"
    },
    "id": "oMaL_kk0Ojns",
    "outputId": "afb4e42e-3f60-48fd-e575-762a79e3f291"
   },
   "outputs": [
    {
     "name": "stdout",
     "output_type": "stream",
     "text": [
      "Chi-square statistic: 7.35\n",
      "P-value: 0.12\n",
      "Degrees of freedom: 4\n"
     ]
    }
   ],
   "source": [
    "import pandas as pd\n",
    "from scipy.stats import chi2_contingency\n",
    "\n",
    "# Load the contingency table from the previous step\n",
    "contingency_table = pd.read_csv('/content/contingency_table_filtered.csv', index_col='GEN_020')\n",
    "#pd.crosstab(df['GEN_020'], df['HWTDGBCC'])\n",
    "\n",
    "# Perform the chi-square test of independence\n",
    "chi2, p_value, dof, expected = chi2_contingency(contingency_table)\n",
    "\n",
    "# Print the results\n",
    "print(f\"Chi-square statistic: {chi2:.2f}\")\n",
    "print(f\"P-value: {p_value:.2f}\")\n",
    "print(f\"Degrees of freedom: {dof}\")"
   ]
  },
  {
   "cell_type": "markdown",
   "id": "1c588642",
   "metadata": {
    "id": "1c588642"
   },
   "source": [
    "### Visualizing BMI by Stress Level\n",
    "\n",
    "A grouped bar chart is generated to visualize the counts of each BMI category within each stress level. This provides a visual representation of the data distribution and helps in understanding the relationship between the two variables.\n",
    "\n",
    "The chart shows the raw counts for each stress level and BMI category. While there are variations in counts across stress levels, the chi-square test suggests these differences are not statistically significant enough to conclude a strong association in the overall population based on this sample and categorization."
   ]
  },
  {
   "cell_type": "code",
   "execution_count": null,
   "id": "mYu2IEZJOqcJ",
   "metadata": {
    "colab": {
     "base_uri": "https://localhost:8080/",
     "height": 735
    },
    "id": "mYu2IEZJOqcJ",
    "outputId": "1ce37ff1-0dc6-4bb3-db93-676e291132b6"
   },
   "outputs": [
    {
     "data": {
      "image/png": "[encoded data removed]",
      "text/plain": [
       "<Figure size 1200x800 with 1 Axes>"
      ]
     },
     "metadata": {},
     "output_type": "display_data"
    }
   ],
   "source": [
    "import pandas as pd\n",
    "import matplotlib.pyplot as plt\n",
    "import numpy as np\n",
    "\n",
    "# Load the dataframe\n",
    "df = pd.read_csv('/content/Hypotheses 5 Categorical values final.csv')\n",
    "\n",
    "# Create a contingency table with raw counts\n",
    "contingency_counts = pd.crosstab(df['GEN_020'], df['HWTDGBCC'])\n",
    "\n",
    "# Plot the grouped bar chart\n",
    "fig, ax = plt.subplots(figsize=(12, 8))\n",
    "contingency_counts.plot(kind='bar', ax=ax, width=0.8)\n",
    "\n",
    "# Set plot title and labels\n",
    "ax.set_title('Count of BMI by Stress Level', fontsize=16)\n",
    "ax.set_xlabel('Stress Level', fontsize=12)\n",
    "ax.set_ylabel('Count', fontsize=12)\n",
    "\n",
    "# Rotate x-axis labels for better readability\n",
    "plt.xticks(rotation=45, ha='right')\n",
    "\n",
    "# Add the counts on top of each bar\n",
    "for c in ax.containers:\n",
    "    ax.bar_label(c, label_type='edge', padding=3)\n",
    "\n",
    "# Add gridlines for better readability\n",
    "ax.grid(axis='y', linestyle='--', alpha=0.7)\n",
    "\n",
    "# Move the legend outside the plot\n",
    "ax.legend(title='BMI Category', bbox_to_anchor=(1.05, 1), loc='upper left')\n",
    "\n",
    "plt.tight_layout()\n",
    "\n",
    "# Save the plot\n",
    "plt.savefig('grouped_bar_chart.png')"
   ]
  }
 ],
 "metadata": {
  "colab": {
   "provenance": []
  },
  "kernelspec": {
   "display_name": "base",
   "language": "python",
   "name": "python3"
  },
  "language_info": {
   "codemirror_mode": {
    "name": "ipython",
    "version": 3
   },
   "file_extension": ".py",
   "mimetype": "text/x-python",
   "name": "python",
   "nbconvert_exporter": "python",
   "pygments_lexer": "ipython3",
   "version": "3.12.7"
  }
 },
 "nbformat": 4,
 "nbformat_minor": 5
}
